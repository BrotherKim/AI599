{
  "cells": [
    {
      "cell_type": "markdown",
      "metadata": {
        "id": "view-in-github",
        "colab_type": "text"
      },
      "source": [
        "<a href=\"https://colab.research.google.com/github/BrotherKim/AI599/blob/master/Final_evaluate_drunkendriving.ipynb\" target=\"_parent\"><img src=\"https://colab.research.google.com/assets/colab-badge.svg\" alt=\"Open In Colab\"/></a>"
      ]
    },
    {
      "cell_type": "markdown",
      "metadata": {
        "id": "CyYyl-NvQ_9W"
      },
      "source": [
        "# KAIST AI599 법률인공지능"
      ]
    },
    {
      "cell_type": "code",
      "source": [
        "# train variables\n",
        "TARGET = 'money'\n",
        "TARGET_SET = 'avail' # all, avail, nonavail\n",
        "TARGET_START = 1 # 0 if you want zero values, INCLUDE THST VALUE\n",
        "TARGET_END = 100000000 # INCLUDE THIS VALUE\n",
        "TARGET_APPROX = 2000000 # '2'개월 또는 '1000000'원\n",
        "TARGET_OPT = 'class' # class, binary\n",
        "TRAIN_COLUMN = 'fy' # raw, facts, statutes, yh, fy\n",
        "MODEL_DIR = '/content/drive/MyDrive/AI599/models'"
      ],
      "metadata": {
        "id": "eyZMs3LrKASA"
      },
      "execution_count": 1,
      "outputs": []
    },
    {
      "cell_type": "markdown",
      "source": [
        "## 과제 개요"
      ],
      "metadata": {
        "id": "fbkSavfrJtex"
      }
    },
    {
      "cell_type": "markdown",
      "metadata": {
        "id": "6pAuxVGLrVYM"
      },
      "source": [
        "이름: 강여진, 김동규, 김학성, 김형, 여인경"
      ]
    },
    {
      "cell_type": "markdown",
      "metadata": {
        "id": "OnhBHCVOCE8i"
      },
      "source": [
        "개요\n",
        "- 컬럼은 한글로 사용\n",
        "- model은 영대문자 사용\n",
        "- dataset은 영소문자, 숫자 사용\n",
        "\n",
        "\n",
        "데이터 준비\n",
        "- precedent는 주문을 형량으로 바꾼 것(이하 \"형\"), 양형의 사유(이하 \"양\"), 그리고 나머지(이하 \"나\")로 이루어져 있음. 양형의 사유와 나머지를 포함한 것을 \"양나\"라고 칭함.\n",
        "- \"형\"을 벌금만 있는 경우와 징역만 있는 경우, 그리고 집행유예가 있는 징역의 경우를 추출. 각각 \"벌\", \"징\", \"집\"이라 칭함.\n",
        "- 양형의 사유가 없는 집합에서 \"벌\"-\"나\", \"징\"-\"나\", \"집\"-\"나\" 데이터셋 생성. 이를 a, b, c라고 칭함\n",
        "- 양형의 사유가 있는 집합에서 \"벌\"-\"나\", \"징\"-\"나\", \"집\"-\"나\", \"벌\"-\"양나\", \"징\"-\"양나\", \"집\"-\"양나\" 데이터셋 생성. 이를 d, e, f, g, h, i라고 칭함.\n",
        "- a~i까지 데이터 생성 시, 해당하지 않는 라벨에 대해서도 예측하도록 함.\n",
        "\n",
        "\n",
        "판결문에 대한 형량 예측 모델 학습\n",
        "- 모델 A, B 준비. A에는 a로 \"나\"에 대한 \"벌\" 예측 모델 생성. B에는 b로 \"나\"에 대한 \"징\" 예측 모델 생성, C에는 c로 \"나\"에 대한 \"집\" 예측 모델 생성.\n",
        "\n",
        "\n",
        "예측\n",
        "- A에 d를 eval시켜 \"나\"에 해당하는 \"벌\" 예측. 이 결과쌍을 j라고 칭함.\n",
        "- B에 e를 eval시켜 \"나\"에 해당하는 \"징\" 예측. 이 결과쌍을 k라고 칭함.\n",
        "- C에 f를 eval시켜 \"나\"에 해당하는 \"집\" 예측. 이 결과쌍을 l라고 칭함.\n",
        "\n",
        "\n",
        "양형 사유에 대한 형량 예측 모델 학습\n",
        "- d, g의 \"벌\"의 delta 값을 추출. \"양\"-delta 데이터셋 생성. 이하 m.\n",
        "- e, h의 \"징\"의 delta 값을 추출. \"징\"-delta 데이터셋 생성. 이하 n.\n",
        "- f, i의 \"집\"의 delta 값을 추출. \"집\"-delta 데이터셋 생성. 이하 o.\n",
        "- 모델 C, D, E 준비. m, n, o에 대해 학습."
      ]
    },
    {
      "cell_type": "markdown",
      "metadata": {
        "id": "E168RPwMhuag"
      },
      "source": [
        "## Google drive connect.\n",
        "connect google drive storage for saving checkpoints."
      ]
    },
    {
      "cell_type": "code",
      "execution_count": 2,
      "metadata": {
        "colab": {
          "base_uri": "https://localhost:8080/"
        },
        "id": "bfASr02F7njd",
        "outputId": "3352c4e4-380e-49c8-aafb-51e32022ec68"
      },
      "outputs": [
        {
          "output_type": "stream",
          "name": "stdout",
          "text": [
            "Drive already mounted at /content/drive; to attempt to forcibly remount, call drive.mount(\"/content/drive\", force_remount=True).\n"
          ]
        }
      ],
      "source": [
        "from google.colab import drive\n",
        "drive.mount('/content/drive')"
      ]
    },
    {
      "cell_type": "markdown",
      "metadata": {
        "id": "906NSvyhRaZS"
      },
      "source": [
        "## lbox_open data 전처리.\n",
        "lbox_open 데이터를 가져와 형태를 분석합니다."
      ]
    },
    {
      "cell_type": "code",
      "execution_count": 3,
      "metadata": {
        "id": "wqOEvX-Ahl6z"
      },
      "outputs": [],
      "source": [
        "!pip install -q datasets==2.4.0"
      ]
    },
    {
      "cell_type": "markdown",
      "metadata": {
        "id": "8y7JCIZCDMEg"
      },
      "source": [
        "## filtering lbox_open data\n",
        "2019.6.25 이후에 발생한 음주운전 데이터를 추출합니다."
      ]
    },
    {
      "cell_type": "code",
      "execution_count": 4,
      "metadata": {
        "id": "OAun4JvWOU2w"
      },
      "outputs": [],
      "source": [
        "# Precedent 쪼개기 위한 function set\n",
        "\n",
        "import re\n",
        "\n",
        "class Precedent:\n",
        "    def __init__(self, rawPrecedent):\n",
        "        self.raw = rawPrecedent\n",
        "        self.__parse__()\n",
        "        \n",
        "    def __parse__(self):\n",
        "        # 주문 - 범죄사실 - 법령의적용 - 양형의이유\n",
        "        # ms - facts - statuts - yh\n",
        "        # fy: facts + yh\n",
        "        retval = re.search(r'주문[\\n]*([^\\n].+[^\\n])[\\n]+이유[\\n]*([^\\n].+[^\\n])[\\n]*', self.raw, re.S)\n",
        "        self.ms = retval.group(1) # Main Sentence, 주문\n",
        "        self.ms = self.ms.strip()\n",
        "\n",
        "        self.etc = retval.group(2)\n",
        "\n",
        "        self.yh = ''\n",
        "        l = self.etc.split('양형의 이유')\n",
        "        if 1 < len(l):\n",
        "            self.etc = l[0].strip()\n",
        "            self.yh = l[1].strip()\n",
        "\n",
        "        self.statutes = ''\n",
        "        l = self.etc.split('법령의 적용')\n",
        "        if 1 < len(l):\n",
        "            self.etc = l[0].strip()\n",
        "            self.statutes = l[1].strip()\n",
        "\n",
        "        self.facts = self.etc\n",
        "\n",
        "        self.fy = f'{self.facts}\\n{self.yh}'\n",
        "\n",
        "        # self.etc = self.etc.replace('\\n', ' ')\n",
        "        # self.etc = self.etc.replace('에 대한 해당법조 및 형의 선택', '')\n",
        "        # self.etc = self.etc.replace('에 대한 해당법조', '')\n",
        "        # self.etc = self.etc.replace('형의 선택', '')\n",
        "        # self.etc = self.etc.replace('피고인의 법정진술', '')\n",
        "        # self.etc = self.etc.replace('[', '')\n",
        "        # self.etc = self.etc.replace(']', '')\n",
        "        # self.etc = self.etc.replace('1. ', '')\n",
        "        # self.etc = self.etc.replace('2. ', '')\n",
        "        # self.etc = self.etc.replace('3. ', '')\n",
        "        # self.etc = self.etc.replace('4. ', '')\n",
        "        # self.etc = self.etc.replace('범 죄 사 실', '')\n",
        "        # self.etc = self.etc.replace('범죄전력', '')\n",
        "        # self.etc = self.etc.replace('범죄사실', '')\n",
        "        # self.etc = self.etc.replace('증거의 요지', '')\n",
        "        # self.etc = self.etc.replace('법령의 적용', '')\n",
        "        # self.etc = self.etc.replace('■', '')\n",
        "        # self.etc = self.etc.strip()\n",
        "\n",
        "        # self.ms = self.ms.replace('\\n', ' ')\n",
        "        # self.ms = self.ms.strip()\n",
        "\n",
        "        self.raw = self.raw.strip()\n",
        "\n",
        "\n",
        "        # self.etc = self.etc.replace('\\n', ' ')\n",
        "        # self.ms = self.ms.replace('\\n', ' ')\n",
        "        # self.raw = self.raw.replace('\\n', ' ')\n",
        "        # self.rsl = 'asf' # Reason of Sentence in law, 양형의 사유\n",
        "        # self.statutes = 'df' # statutes, 법령\n",
        "\n",
        "def getNumericInKorean(kStrNum):\n",
        "    retval = 1\n",
        "    retStr = kStrNum\n",
        "    retStr = retStr.replace(',', '')\n",
        "    if '만' in retStr:\n",
        "        retval = retval * 10000\n",
        "        retStr = retStr.replace('만', '')\n",
        "    if '천' in retStr:\n",
        "        retval = retval * 1000\n",
        "        retStr = retStr.replace('천', '')\n",
        "    retval = int(retStr) * retval\n",
        "    return retval\n",
        "\n",
        "def getMonthFromText(s):\n",
        "    year  = re.findall(r'(\\d+)년', s, re.S)\n",
        "    y = 0 if len(year) == 0 else (int)(year[0]);\n",
        "    month  = re.findall(r'(\\d+)개?월', s, re.S)\n",
        "    m = 0 if len(month) == 0 else (int)(month[0]);\n",
        "    return y*12 + m\n",
        "\n",
        "def generateDataSet(dataframe, max_cnt, classopt='class'):\n",
        "    retval = pd.DataFrame({\\\n",
        "                           'id': pd.Series(dtype='int'), 'money': pd.Series(dtype='int'), 'prison': pd.Series(dtype='int'),'yooye': pd.Series(dtype='int'),\\\n",
        "                           'facts':[], 'statutes':[], 'yh':[], 'fy':[], 'raw':[]})\n",
        "    cnts = {}\n",
        "    for i, row in dataframe.iterrows():\n",
        "        p = Precedent(row['precedent'])\n",
        "        #print(f'p.ms: {p.ms}\\n p.etc: {p.etc}')\n",
        "        if '처한다' in p.ms and p.ms.startswith('피') and '및' not in p.ms:\n",
        "            info = {}\n",
        "            info['money'] = 0\n",
        "            info['prison'] = 0\n",
        "            info['yooye'] = 0\n",
        "            # 주문\\n피고인을 벌금 14,000,000(일천사백만)원에 처한다.\\\n",
        "            money  = re.findall(r'벌금\\s+([^\\s\\(\\)]+)\\s*원', p.ms, re.S)\n",
        "            if 0 < len(money): # 벌금형\n",
        "                if classopt == 'class':\n",
        "                    info['money'] = '0' if len(money) == 0 else getNumericInKorean(money[0])\n",
        "                else:\n",
        "                    info['money'] = '0' if len(money) == 0 else 1\n",
        "            else: # 금고형, 집행유예 포함\n",
        "                if '유예' in p.ms: # 집행유예 포함된 금고형.\n",
        "                    msList = p.ms.split('처한다')\n",
        "                    info['yooye'] = getMonthFromText(msList[1]) if classopt == 'class' else 1\n",
        "                    info['prison'] = getMonthFromText(msList[0]) if classopt == 'class' else 1\n",
        "                    # yy = 1\n",
        "                    #prison = 1\n",
        "                else: # 그냥 금고형\n",
        "                    info['prison'] = getMonthFromText(p.ms) if classopt == 'class' else 1\n",
        "                    #prison = 1\n",
        "\n",
        "            if TARGET_START <= info[TARGET] and info[TARGET] <= TARGET_END:\n",
        "            #    if prison in [0, 12, 18]:\n",
        "                if info[TARGET] not in cnts:\n",
        "                    cnts[info[TARGET]] = 0\n",
        "                cnts[info[TARGET]] = cnts[info[TARGET]] + 1\n",
        "                if cnts[info[TARGET]] > max_cnt:\n",
        "                    continue\n",
        "                retval.loc[i] = [i, [info['money']], [info['prison']], [info['yooye']], p.facts, p.statutes, p.yh, p.fy, p.raw]\n",
        "            \n",
        "            #retval.loc[i] = [i, [mn], [prison], [yy], p.etc, p.raw]  \n",
        "    return retval"
      ]
    },
    {
      "cell_type": "code",
      "source": [
        "# # hs's rule\n",
        "# [1,2,3,4,5]\n",
        "# [6,10]\n",
        "# []\n",
        "# []\n",
        "# []\n",
        "\n",
        "# # yk's rule\n",
        "# [1 2 3]\n",
        "# [4 5 6]\n",
        "# [7 8 9] 8\n",
        "# [10 11 12]\n",
        "# [13 14 15] 14\n",
        "# [16 17 18]\n",
        "\n",
        "# # 1~5 / 6~8 / 9~12 / 13~15 / 16~18 / 19~22 / 24~29 / 30~36 /"
      ],
      "metadata": {
        "id": "dZyCdPKf7WzU"
      },
      "execution_count": 5,
      "outputs": []
    },
    {
      "cell_type": "markdown",
      "metadata": {
        "id": "uKrxE_MdSJIK"
      },
      "source": [
        "## 전처리된 데이터로 학습.\n",
        "모델이 학습할 수 있도록 데이터의 형태를 변경해 학습합니다."
      ]
    },
    {
      "cell_type": "code",
      "execution_count": 6,
      "metadata": {
        "id": "gWrik2UTP46o"
      },
      "outputs": [],
      "source": [
        "!pip install --quiet transformers==4.22.0\n",
        "!pip install --quiet sentencepiece==0.1.97\n",
        "!pip install --quiet pytorch-lightning==1.7.6\n",
        "!pip install --quiet sklearn"
      ]
    },
    {
      "cell_type": "code",
      "execution_count": 7,
      "metadata": {
        "id": "Po4pImMk8Fp7"
      },
      "outputs": [],
      "source": [
        "import os\n",
        "os.environ['TOKENIZERS_PARALLELISM'] = 'false'\n",
        "\n",
        "from functools import reduce\n",
        "import random\n",
        "\n",
        "import torch\n",
        "import numpy as np\n",
        "import transformers\n",
        "import pytorch_lightning as pl\n",
        "from transformers import AutoTokenizer, BertForSequenceClassification\n",
        "\n",
        "import pandas as pd"
      ]
    },
    {
      "cell_type": "code",
      "execution_count": 8,
      "metadata": {
        "id": "oLwzk-wl7_52"
      },
      "outputs": [],
      "source": [
        "class StatutesDataModule(pl.LightningDataModule):\n",
        "    def __init__(self, column, trainset, statutes, tokenizer, data, batch_size=16, max_input_len=512):\n",
        "        super().__init__()\n",
        "        self.column = column\n",
        "        self.trainset = trainset\n",
        "        self.statutes = statutes\n",
        "        self.tokenizer = tokenizer\n",
        "        self.data = data\n",
        "        self.batch_size = batch_size\n",
        "        self.max_input_len = max_input_len \n",
        "    \n",
        "    def setup(self, stage):\n",
        "        pass\n",
        "    \n",
        "    def train_dataloader(self):\n",
        "        return torch.utils.data.DataLoader(self.data['train'], batch_size=self.batch_size, shuffle=True, collate_fn=self._collate_fn)\n",
        "    \n",
        "    def val_dataloader(self):\n",
        "        return torch.utils.data.DataLoader(self.data['valid'], batch_size=self.batch_size*2, shuffle=False, collate_fn=self._collate_fn)\n",
        "    \n",
        "    def test_dataloader(self):\n",
        "        return torch.utils.data.DataLoader(self.data['test'], batch_size=self.batch_size*2, shuffle=False, collate_fn=self._collate_fn)\n",
        "    \n",
        "    def _collate_fn(self, batch):\n",
        "        inputs = self.tokenizer([x[self.trainset] for x in batch], max_length=self.max_input_len, padding=True, truncation=True, return_tensors='pt')\n",
        "        labels = [x[self.column] for x in batch]\n",
        "\n",
        "        return inputs, labels"
      ]
    },
    {
      "cell_type": "code",
      "execution_count": 9,
      "metadata": {
        "id": "WIDQ5fvG7_4r"
      },
      "outputs": [],
      "source": [
        "class StatutesClassifier(pl.LightningModule):\n",
        "    def __init__(self, statutes, backbone, learning_rate=1e-5, mode='multi-class', approx_val=2):\n",
        "        super().__init__()\n",
        "        self.statutes = statutes\n",
        "        self.backbone = backbone\n",
        "        self.learning_rate = learning_rate\n",
        "        self.mode = mode\n",
        "        self.criterion = torch.nn.CrossEntropyLoss() if mode == 'multi-class' else torch.nn.BCEWithLogitsLoss()\n",
        "        self.approx_val = approx_val\n",
        "        #self.criterion = torch.nn.MSELoss()\n",
        "        #self.criterion = torch.nn.BCEWithLogitsLoss()\n",
        "    \n",
        "    def forward(self, batch):\n",
        "        inputs, labels = batch\n",
        "        logits = self.backbone(**inputs).logits\n",
        "        targets = torch.zeros_like(logits)\n",
        "        for i, label in enumerate(labels):\n",
        "            label_id = [(self.statutes.index(x) if x in self.statutes else 0) for x in label]\n",
        "            targets[i, label_id] = 1 / len(label_id) if self.mode == 'multi-class' else 1\n",
        "        loss = self.criterion(logits, targets)\n",
        "\n",
        "        return loss, logits\n",
        "\n",
        "    def training_step(self, batch, batch_idx):\n",
        "        loss, _ = self.forward(batch)\n",
        "        return {'loss': loss}\n",
        "    \n",
        "    def validation_step(self, batch, batch_idx):\n",
        "        return self._evaluation_step(batch) \n",
        "    \n",
        "    def validation_epoch_end(self, outputs):\n",
        "        self._evaluation_epoch_end(outputs)\n",
        "\n",
        "    def test_step(self, batch, batch_idx):\n",
        "        return self._evaluation_step(batch) \n",
        "\n",
        "    def test_epoch_end(self, outputs):\n",
        "        self._evaluation_epoch_end(outputs, True)\n",
        "   \n",
        "    def _evaluation_step(self, batch):\n",
        "        loss, logits = self.forward(batch)\n",
        "        _, gts = batch\n",
        "        if self.mode == 'multi-class':\n",
        "            prs = np.array(self.statutes)[logits.argmax(-1).cpu()].tolist()\n",
        "        else:\n",
        "            prs = [np.array(self.statutes)[np.where(logit.sigmoid().cpu() > 0.5)[0]] for logit in logits]\n",
        "\n",
        "        if isinstance(prs, list) == False:\n",
        "            prs = [prs]\n",
        "        \n",
        "        return {'loss': loss.item(), 'gts': gts, 'prs': prs}\n",
        "\n",
        "    def _evaluation_epoch_end(self, outputs, test=False):\n",
        "        avg_loss = np.mean([x['loss'] for x in outputs])\n",
        "        #print(outputs)\n",
        "        gts = reduce(lambda x,y: x + y, [x['gts'] for x in outputs], [])\n",
        "        prs = reduce(lambda x,y: x + y, [x['prs'] for x in outputs], [])\n",
        "        # if self.mode == 'multi-class':\n",
        "        #     #acc = sum([(pr in gt) for gt, pr in zip(gts, prs)]) / len(gts)\n",
        "        #     acc = sum([abs(pr - gt[0] <= self.approx_val) for gt, pr in zip(gts, prs)]) / len(gts)\n",
        "        # else:\n",
        "        #     acc = sum([(set(pr) == set(gt)) for gt, pr in zip(gts, prs)]) / len(gts)\n",
        "        \n",
        "        #print(f'예측 형량: {prs}')\n",
        "        self.answer = prs\n",
        "            \n",
        "\n",
        "    def configure_optimizers(self):\n",
        "        grouped_params = [{'params': list(filter(lambda p: p.requires_grad, self.parameters())), 'lr': self.learning_rate}]\n",
        "        optimizer = torch.optim.AdamW(grouped_params, lr=self.learning_rate)\n",
        "\n",
        "        return {'optimizer': optimizer}"
      ]
    },
    {
      "cell_type": "code",
      "execution_count": 10,
      "metadata": {
        "id": "I7CfwPx0QCVK"
      },
      "outputs": [],
      "source": [
        "from sklearn.model_selection import train_test_split\n",
        "import datasets\n",
        "import tensorflow as tf\n",
        "from datasets import Dataset\n",
        "\n",
        "def convertDFtoDS(df):\n",
        "    return tf.data.Dataset.from_tensor_slices(dict(df))\n",
        "\n",
        "backbone_card = 'bert-base-multilingual-cased'\n",
        "tokenizer = AutoTokenizer.from_pretrained(backbone_card)\n"
      ]
    },
    {
      "cell_type": "code",
      "execution_count": 11,
      "metadata": {
        "id": "_xQvF8P1pVG0"
      },
      "outputs": [],
      "source": [
        "# # coded by cat\n",
        "# cfdxf,er?\"\n",
        "# ]\\w\n",
        "# ws\""
      ]
    },
    {
      "cell_type": "code",
      "execution_count": 12,
      "metadata": {
        "id": "tEWsCa7hB-qh"
      },
      "outputs": [],
      "source": [
        "import gc\n",
        "\n",
        "def execTrain(dataset, target, trainset):\n",
        "    #init cuda\n",
        "    gc.collect()\n",
        "    torch.cuda.empty_cache()\n",
        "\n",
        "    #divide train/valid/test set\n",
        "    train, test = train_test_split(dataset, test_size=0.2, random_state=1)\n",
        "    train, valid = train_test_split(train, test_size=0.2, random_state=1)\n",
        "    d = datasets.DatasetDict({'train': Dataset.from_dict(train), 'valid': Dataset.from_dict(valid), 'test': Dataset.from_dict(test)})\n",
        "\n",
        "    # labels init\n",
        "    labels = sorted(set.union(*map(set, dataset[target])))\n",
        "    data_module = StatutesDataModule(target, trainset, labels, tokenizer, d, batch_size=16, max_input_len=512)\n",
        "\n",
        "    # model\n",
        "    backbone = BertForSequenceClassification.from_pretrained(backbone_card, num_labels=len(labels))\n",
        "    model = StatutesClassifier(labels, backbone, learning_rate=1e-5, mode='multi-class', approx_val=TARGET_APPROX)\n",
        "\n",
        "    # trainer\n",
        "    n_gpus = 1 #torch.cuda.device_count()\n",
        "    trainer = pl.Trainer(max_epochs=20, gpus=n_gpus, fast_dev_run=not True)\n",
        "\n",
        "    # train and eval\n",
        "    trainer.fit(model, data_module)\n",
        "    trainer.test(model, data_module)\n",
        "\n",
        "    return model\n",
        "\n",
        "def initDataModule(dataset, target, trainset):\n",
        "    #init cuda\n",
        "    gc.collect()\n",
        "    #torch.cuda.empty_cache()\n",
        "    torch.no_grad()\n",
        "\n",
        "    d = datasets.DatasetDict({'test': Dataset.from_dict(dataset)})\n",
        "\n",
        "    # labels init\n",
        "    labels = sorted(set.union(*map(set, dataset[target])))\n",
        "    data_module = StatutesDataModule(target, trainset, labels, tokenizer, d, batch_size=16, max_input_len=512)\n",
        "\n",
        "    return data_module\n",
        "\n",
        "def execEval_bk(modelpath, data_module):\n",
        "\n",
        "    # model\n",
        "    #backbone = BertForSequenceClassification.from_pretrained(backbone_card, num_labels=len(labels))\n",
        "    #model = StatutesClassifier(labels, backbone, learning_rate=1e-5, mode='multi-class')\n",
        "    model = torch.load(modelpath)\n",
        "    model.eval()\n",
        "\n",
        "    # trainer\n",
        "    #n_gpus = 1 #torch.cuda.device_count()\n",
        "    #trainer = pl.Trainer(max_epochs=20, gpus=n_gpus, fast_dev_run=not True)\n",
        "\n",
        "    #n_gpus = 1 #torch.cuda.device_count()\n",
        "    trainer = pl.Trainer(max_epochs=20, fast_dev_run=not True, logger=None)\n",
        "\n",
        "    trainer.test(model, data_module)\n",
        "    return model.answer\n",
        "\n",
        "def execEval(dataset, target, trainset, modelpath):\n",
        "    #init cuda\n",
        "    gc.collect()\n",
        "    #torch.cuda.empty_cache()\n",
        "    torch.no_grad()\n",
        "\n",
        "    #divide train/valid/test set\n",
        "    # train, test = train_test_split(dataset, test_size=0.2, random_state=1)\n",
        "    # train, valid = train_test_split(train, test_size=0.2, random_state=1)\n",
        "    #d = datasets.DatasetDict({'train': Dataset.from_dict(train), 'valid': Dataset.from_dict(valid), 'test': Dataset.from_dict(test)})\n",
        "    d = datasets.DatasetDict({'test': Dataset.from_dict(dataset)})\n",
        "\n",
        "    # labels init\n",
        "    labels = sorted(set.union(*map(set, dataset[target])))\n",
        "    data_module = StatutesDataModule(target, trainset, labels, tokenizer, d, batch_size=16, max_input_len=512)\n",
        "\n",
        "    # model\n",
        "    model = torch.load(modelpath)\n",
        "    #model.eval()\n",
        "\n",
        "    # trainer\n",
        "    #n_gpus = 1 #torch.cuda.device_count()\n",
        "    #trainer = pl.Trainer(max_epochs=20, gpus=n_gpus, fast_dev_run=not True)\n",
        "\n",
        "    n_gpus = 1 #torch.cuda.device_count()\n",
        "    trainer = pl.Trainer(max_epochs=1, fast_dev_run=True, logger=None)\n",
        "\n",
        "    trainer.test(model, data_module)\n",
        "    return model.answer"
      ]
    },
    {
      "cell_type": "markdown",
      "source": [
        "## RUN"
      ],
      "metadata": {
        "id": "C8g2Pfg2ZhwS"
      }
    },
    {
      "cell_type": "code",
      "source": [
        "import logging\n",
        "import warnings\n",
        "import os\n",
        "os.environ['TF_CPP_MIN_LOG_LEVEL'] = '3' \n",
        "import tensorflow as tf\n",
        "\n",
        "# configure logging at the root level of Lightning\n",
        "logging.getLogger(\"pytorch_lightning\").setLevel(logging.ERROR)\n",
        "warnings.filterwarnings(action='ignore')"
      ],
      "metadata": {
        "id": "1wkPa7-3sjAc"
      },
      "execution_count": 13,
      "outputs": []
    },
    {
      "cell_type": "code",
      "source": [
        "class Judge:\n",
        "    def __init__(self):\n",
        "        # model. binary/class, prison/money/yooye\n",
        "        self.bp = torch.load(f'{MODEL_DIR}/prison_binary_avail_fy_0_36_model.pt')\n",
        "        self.bm = torch.load(f'{MODEL_DIR}/money_binary_avail_fy_0_100000000_model.pt')\n",
        "        self.by = torch.load(f'{MODEL_DIR}/yooye_binary_avail_fy_0_36_model.pt')\n",
        "        self.cp = torch.load(f'{MODEL_DIR}/prison_avail_fy_1_36_model.pt')\n",
        "        self.cm = torch.load(f'{MODEL_DIR}/money_avail_fy_1_100000000_model.pt')\n",
        "        self.cy = torch.load(f'{MODEL_DIR}/yooye_avail_fy_1_36_model.pt')\n",
        "\n",
        "        self.trainer = pl.Trainer(max_epochs=1, fast_dev_run=True, enable_progress_bar=False)\n",
        "        # n_gpus = 1 #torch.cuda.device_count()\n",
        "        # self.trainer = pl.Trainer(max_epochs=1, gpus=n_gpus, fast_dev_run=True, enable_progress_bar=False)\n",
        "\n",
        "    def genOneDataSet(self, facts, yh):\n",
        "        retval = pd.DataFrame({\\\n",
        "                            'id': pd.Series(dtype='int'), 'money': pd.Series(dtype='int'), 'prison': pd.Series(dtype='int'),'yooye': pd.Series(dtype='int'),\\\n",
        "                            'facts':[], 'statutes':[], 'yh':[], 'fy':[], 'raw':[]})\n",
        "        retval.loc[0] = [0, ['0'], ['0'], ['0'], facts, '', yh, f'{facts}\\n{yh}', f'{facts}\\n{yh}']\n",
        "        return retval\n",
        "\n",
        "    def testModel(self, model, trainer, data_module):\n",
        "        trainer.test(model, data_module)\n",
        "        return model.answer\n",
        "\n",
        "    def judge(self, testfact, testyh):\n",
        "        \n",
        "        #init cuda\n",
        "        gc.collect()\n",
        "        torch.cuda.empty_cache()\n",
        "        torch.no_grad()\n",
        "\n",
        "        # generate dataset\n",
        "        dataset = self.genOneDataSet(testfact, testyh)\n",
        "\n",
        "        # divide train/valid/test set\n",
        "        d = datasets.DatasetDict({'test': Dataset.from_dict(dataset)})\n",
        "\n",
        "        # labels init\n",
        "        labels = sorted(set.union(*map(set, dataset['prison'])))\n",
        "        data_module = StatutesDataModule('prison', 'fy', labels, tokenizer, d, batch_size=16, max_input_len=512)\n",
        "\n",
        "        # predict\n",
        "        predBin = {}\n",
        "        predCls = {}\n",
        "\n",
        "        predBin['prison'] = self.testModel(self.bp, self.trainer, data_module)\n",
        "        predBin['money'] = self.testModel(self.bm, self.trainer, data_module)\n",
        "        predBin['yooye'] = self.testModel(self.by, self.trainer, data_module)\n",
        "\n",
        "        predCls['prison'] = self.testModel(self.cp, self.trainer, data_module)\n",
        "        predCls['money'] = self.testModel(self.cm, self.trainer, data_module)\n",
        "        predCls['yooye'] = self.testModel(self.cy, self.trainer, data_module)\n",
        "\n",
        "        # print results\n",
        "        print('='*100)\n",
        "        print(f'사실관계\\n{testfact}\\n양형의 이유\\n{testyh}')\n",
        "        print('징역[%d,%d월]' % (predBin['prison'][0], predCls['prison'][0]))\n",
        "        print('유예[%d,%d월]' % (predBin['yooye'][0], predCls['yooye'][0]))\n",
        "        print('벌금[%d,%d원]' % (predBin['money'][0], predCls['money'][0]))\n",
        "        print('='*100)\n"
      ],
      "metadata": {
        "id": "HXJQr3MK823j"
      },
      "execution_count": 14,
      "outputs": []
    },
    {
      "cell_type": "code",
      "source": [
        "j = None\n",
        "j = Judge()"
      ],
      "metadata": {
        "id": "KxGv-26d_ZLQ"
      },
      "execution_count": 15,
      "outputs": []
    },
    {
      "cell_type": "code",
      "source": [
        "testyhs = []\n",
        "testfact = '피고인은 2022. 4. 22. 19:10경 혈중알코올농도 0.038%의 술에 취한 상태로 부산 해운대구 B에 있는 C 앞 도로에서부터 부산 해운대구 D에 있는 E 앞 도로까지 약 1.8km의 구간에서 (차량번호 1 생략) 그랜저 승용차를 운전하였다.'\n",
        "testyhs.append('')\n",
        "testyhs.append('○ 불리한 정상: 음주운전으로 처벌받은 전력이 있음에도 또다시 이 사건 음주운전 범행을 저지른 점, ○ 유리한 정상: 피고인의 혈중알코올농도가 비교적 낮은 점, 자신의 범행을 시인하며 깊이 반성하는 점, 위와 같은 정상들과 그밖에 피고인의 연령, 성행과 환경, 범행의 동기 및 경위, 범행 후의 정황 등 변론에 나타난 모든 양형조건을 종합하여 주문과 같이 형을 정한다.')\n",
        "testyhs.append('○ 불리한 정상: 음주운전으로 처벌받은 전력이 있음에도 또다시 이 사건 음주운전 범행을 저지른 점, ○ 유리한 정상: 피고인의 혈중알코올농도가 비교적 낮은 점, 운전한 거리가 매우 멀지는 않은 점, 위와 같은 정상들과 그밖에 피고인의 연령, 성행과 환경, 범행의 동기 및 경위, 범행 후의 정황 등 변론에 나타난 모든 양형조건을 종합하여 주문과 같이 형을 정한다.')\n",
        "testyhs.append('○ 불리한 정상: 음주운전으로 처벌받은 전력이 있음에도 또다시 이 사건 음주운전 범행을 저지른 점, ○ 유리한 정상: 피고인의 혈중알코올농도가 비교적 낮은 점, 피고인의 음주 운전 벌금 전력으로부터 상당한 시간적 간격이 있는 점, 위와 같은 정상들과 그밖에 피고인의 연령, 성행과 환경, 범행의 동기 및 경위, 범행 후의 정황 등 변론에 나타난 모든 양형조건을 종합하여 주문과 같이 형을 정한다.')\n",
        "testyhs.append('○ 불리한 정상: 음주운전으로 처벌받은 전력이 있음에도 또다시 이 사건 음주운전 범행을 저지른 점, ○ 유리한 정상: 피고인의 혈중알코올농도가 비교적 낮은 점, 월세를 얻어 두 자녀를 양육하고 있는 점, 위와 같은 정상들과 그밖에 피고인의 연령, 성행과 환경, 범행의 동기 및 경위, 범행 후의 정황 등 변론에 나타난 모든 양형조건을 종합하여 주문과 같이 형을 정한다.')\n",
        "testyhs.append('○ 불리한 정상: 음주운전으로 처벌받은 전력이 있음에도 또다시 이 사건 음주운전 범행을 저지른 점, ○ 유리한 정상: 피고인의 혈중알코올농도가 비교적 낮은 점, 월세를 얻어 두 자녀를 양육하고 있는 점, 위와 같은 정상들과 그밖에 피고인의 연령, 성행과 환경, 범행의 동기 및 경위, 범행 후의 정황 등 변론에 나타난 모든 양형조건을 종합하여 주문과 같이 형을 정한다.')\n",
        "testyhs.append('○ 불리한 정상: 음주운전으로 처벌받은 전력이 있음에도 또다시 이 사건 음주운전 범행을 저지른 점, ○ 유리한 정상: 피고인의 혈중알코올농도가 비교적 낮은 점, 피고인이 장애를 가지고 있는 점, 위와 같은 정상들과 그밖에 피고인의 연령, 성행과 환경, 범행의 동기 및 경위, 범행 후의 정황 등 변론에 나타난 모든 양형조건을 종합하여 주문과 같이 형을 정한다.')\n",
        "testyhs.append('○ 불리한 정상: 음주운전으로 처벌받은 전력이 있음에도 또다시 이 사건 음주운전 범행을 저지른 점, ○ 유리한 정상: 피고인의 혈중알코올농도가 비교적 낮은 점, 피고인이 장애를 가지고 있는 점, 위와 같은 정상들과 그밖에 피고인의 연령, 성행과 환경, 범행의 동기 및 경위, 범행 후의 정황 등 변론에 나타난 모든 양형조건을 종합하여 주문과 같이 형을 정한다.')\n",
        "\n",
        "for testyh in testyhs:\n",
        "    j.judge(testfact, testyh)"
      ],
      "metadata": {
        "colab": {
          "base_uri": "https://localhost:8080/"
        },
        "id": "xcNNpKVtkpWf",
        "outputId": "7e6964c5-491f-45fd-cd86-2ff18c0de3fe"
      },
      "execution_count": 18,
      "outputs": [
        {
          "output_type": "stream",
          "name": "stdout",
          "text": [
            "====================================================================================================\n",
            "사실관계\n",
            "피고인은 2022. 4. 22. 19:10경 혈중알코올농도 0.038%의 술에 취한 상태로 부산 해운대구 B에 있는 C 앞 도로에서부터 부산 해운대구 D에 있는 E 앞 도로까지 약 1.8km의 구간에서 (차량번호 1 생략) 그랜저 승용차를 운전하였다.\n",
            "양형의 이유￦n\n",
            "징역[1,18월]\n",
            "유예[1,24월]\n",
            "벌금[0,5000000원]\n",
            "====================================================================================================\n",
            "====================================================================================================\n",
            "사실관계\n",
            "피고인은 2022. 4. 22. 19:10경 혈중알코올농도 0.038%의 술에 취한 상태로 부산 해운대구 B에 있는 C 앞 도로에서부터 부산 해운대구 D에 있는 E 앞 도로까지 약 1.8km의 구간에서 (차량번호 1 생략) 그랜저 승용차를 운전하였다.\n",
            "양형의 이유￦n○ 불리한 정상: 음주운전으로 처벌받은 전력이 있음에도 또다시 이 사건 음주운전 범행을 저지른 점, ○ 유리한 정상: 피고인의 혈중알코올농도가 비교적 낮은 점, 자신의 범행을 시인하며 깊이 반성하는 점, 위와 같은 정상들과 그밖에 피고인의 연령, 성행과 환경, 범행의 동기 및 경위, 범행 후의 정황 등 변론에 나타난 모든 양형조건을 종합하여 주문과 같이 형을 정한다.\n",
            "징역[1,18월]\n",
            "유예[0,24월]\n",
            "벌금[0,5000000원]\n",
            "====================================================================================================\n",
            "====================================================================================================\n",
            "사실관계\n",
            "피고인은 2022. 4. 22. 19:10경 혈중알코올농도 0.038%의 술에 취한 상태로 부산 해운대구 B에 있는 C 앞 도로에서부터 부산 해운대구 D에 있는 E 앞 도로까지 약 1.8km의 구간에서 (차량번호 1 생략) 그랜저 승용차를 운전하였다.\n",
            "양형의 이유￦n○ 불리한 정상: 음주운전으로 처벌받은 전력이 있음에도 또다시 이 사건 음주운전 범행을 저지른 점, ○ 유리한 정상: 피고인의 혈중알코올농도가 비교적 낮은 점, 운전한 거리가 매우 멀지는 않은 점, 위와 같은 정상들과 그밖에 피고인의 연령, 성행과 환경, 범행의 동기 및 경위, 범행 후의 정황 등 변론에 나타난 모든 양형조건을 종합하여 주문과 같이 형을 정한다.\n",
            "징역[1,18월]\n",
            "유예[0,24월]\n",
            "벌금[0,5000000원]\n",
            "====================================================================================================\n",
            "====================================================================================================\n",
            "사실관계\n",
            "피고인은 2022. 4. 22. 19:10경 혈중알코올농도 0.038%의 술에 취한 상태로 부산 해운대구 B에 있는 C 앞 도로에서부터 부산 해운대구 D에 있는 E 앞 도로까지 약 1.8km의 구간에서 (차량번호 1 생략) 그랜저 승용차를 운전하였다.\n",
            "양형의 이유￦n○ 불리한 정상: 음주운전으로 처벌받은 전력이 있음에도 또다시 이 사건 음주운전 범행을 저지른 점, ○ 유리한 정상: 피고인의 혈중알코올농도가 비교적 낮은 점, 피고인의 음주 운전 벌금 전력으로부터 상당한 시간적 간격이 있는 점, 위와 같은 정상들과 그밖에 피고인의 연령, 성행과 환경, 범행의 동기 및 경위, 범행 후의 정황 등 변론에 나타난 모든 양형조건을 종합하여 주문과 같이 형을 정한다.\n",
            "징역[1,18월]\n",
            "유예[0,24월]\n",
            "벌금[0,5000000원]\n",
            "====================================================================================================\n",
            "====================================================================================================\n",
            "사실관계\n",
            "피고인은 2022. 4. 22. 19:10경 혈중알코올농도 0.038%의 술에 취한 상태로 부산 해운대구 B에 있는 C 앞 도로에서부터 부산 해운대구 D에 있는 E 앞 도로까지 약 1.8km의 구간에서 (차량번호 1 생략) 그랜저 승용차를 운전하였다.\n",
            "양형의 이유￦n○ 불리한 정상: 음주운전으로 처벌받은 전력이 있음에도 또다시 이 사건 음주운전 범행을 저지른 점, ○ 유리한 정상: 피고인의 혈중알코올농도가 비교적 낮은 점, 월세를 얻어 두 자녀를 양육하고 있는 점, 위와 같은 정상들과 그밖에 피고인의 연령, 성행과 환경, 범행의 동기 및 경위, 범행 후의 정황 등 변론에 나타난 모든 양형조건을 종합하여 주문과 같이 형을 정한다.\n",
            "징역[1,8월]\n",
            "유예[0,24월]\n",
            "벌금[0,5000000원]\n",
            "====================================================================================================\n",
            "====================================================================================================\n",
            "사실관계\n",
            "피고인은 2022. 4. 22. 19:10경 혈중알코올농도 0.038%의 술에 취한 상태로 부산 해운대구 B에 있는 C 앞 도로에서부터 부산 해운대구 D에 있는 E 앞 도로까지 약 1.8km의 구간에서 (차량번호 1 생략) 그랜저 승용차를 운전하였다.\n",
            "양형의 이유￦n○ 불리한 정상: 음주운전으로 처벌받은 전력이 있음에도 또다시 이 사건 음주운전 범행을 저지른 점, ○ 유리한 정상: 피고인의 혈중알코올농도가 비교적 낮은 점, 월세를 얻어 두 자녀를 양육하고 있는 점, 위와 같은 정상들과 그밖에 피고인의 연령, 성행과 환경, 범행의 동기 및 경위, 범행 후의 정황 등 변론에 나타난 모든 양형조건을 종합하여 주문과 같이 형을 정한다.\n",
            "징역[1,8월]\n",
            "유예[0,24월]\n",
            "벌금[0,5000000원]\n",
            "====================================================================================================\n",
            "====================================================================================================\n",
            "사실관계\n",
            "피고인은 2022. 4. 22. 19:10경 혈중알코올농도 0.038%의 술에 취한 상태로 부산 해운대구 B에 있는 C 앞 도로에서부터 부산 해운대구 D에 있는 E 앞 도로까지 약 1.8km의 구간에서 (차량번호 1 생략) 그랜저 승용차를 운전하였다.\n",
            "양형의 이유￦n○ 불리한 정상: 음주운전으로 처벌받은 전력이 있음에도 또다시 이 사건 음주운전 범행을 저지른 점, ○ 유리한 정상: 피고인의 혈중알코올농도가 비교적 낮은 점, 피고인이 장애를 가지고 있는 점, 위와 같은 정상들과 그밖에 피고인의 연령, 성행과 환경, 범행의 동기 및 경위, 범행 후의 정황 등 변론에 나타난 모든 양형조건을 종합하여 주문과 같이 형을 정한다.\n",
            "징역[1,18월]\n",
            "유예[0,24월]\n",
            "벌금[0,5000000원]\n",
            "====================================================================================================\n",
            "====================================================================================================\n",
            "사실관계\n",
            "피고인은 2022. 4. 22. 19:10경 혈중알코올농도 0.038%의 술에 취한 상태로 부산 해운대구 B에 있는 C 앞 도로에서부터 부산 해운대구 D에 있는 E 앞 도로까지 약 1.8km의 구간에서 (차량번호 1 생략) 그랜저 승용차를 운전하였다.\n",
            "양형의 이유￦n○ 불리한 정상: 음주운전으로 처벌받은 전력이 있음에도 또다시 이 사건 음주운전 범행을 저지른 점, ○ 유리한 정상: 피고인의 혈중알코올농도가 비교적 낮은 점, 피고인이 장애를 가지고 있는 점, 위와 같은 정상들과 그밖에 피고인의 연령, 성행과 환경, 범행의 동기 및 경위, 범행 후의 정황 등 변론에 나타난 모든 양형조건을 종합하여 주문과 같이 형을 정한다.\n",
            "징역[1,18월]\n",
            "유예[0,24월]\n",
            "벌금[0,5000000원]\n",
            "====================================================================================================\n"
          ]
        }
      ]
    },
    {
      "cell_type": "code",
      "source": [
        "testyhs = []\n",
        "testfact = '피고인은 2022. 3. 31. 23:38경 서울 마포구 B 인근 도로에서부터 서울 금천구 C 앞 도로에 이르기까지 약 12km 구간에서 혈중알코올농도 0.118%의 술에 취한 상태로 (차량번호 1 생략) 스파크 승용차를 운전하였다.'\n",
        "testyhs.append('')\n",
        "testyhs.append('○ 불리한 정상: 혈중알코올농도 수치가 높고 음주상태에서 운전한 거리가 상당한 점, ○ 유리한 정상: 자신의 범행을 시인하며 깊이 반성하는 점, 피고인이 아무런 범죄 전력이 없는 초범인 점, 위와 같은 정상들과 그밖에 피고인의 연령, 성행과 환경, 범행의 동기 및 경위, 범행 후의 정황 등 변론에 나타난 모든 양형조건을 종합하여 주문과 같이 형을 정한다.')\n",
        "testyhs.append('○ 불리한 정상: 혈중알코올농도 수치가 높고 음주상태에서 운전한 거리가 상당한 점, ○ 유리한 정상: 자신의 범행을 시인하며 깊이 반성하는 점, 피고인이 아무런 범죄 전력이 없는 초범인 점, 월세를 얻어 두 자녀를 양육하고 있는 점, 위와 같은 정상들과 그밖에 피고인의 연령, 성행과 환경, 범행의 동기 및 경위, 범행 후의 정황 등 변론에 나타난 모든 양형조건을 종합하여 주문과 같이 형을 정한다.')\n",
        "testyhs.append('○ 불리한 정상: 혈중알코올농도 수치가 높고 음주상태에서 운전한 거리가 상당한 점, ○ 유리한 정상: 자신의 범행을 시인하며 깊이 반성하는 점, 피고인이 아무런 범죄 전력이 없는 초범인 점, 피고인이 차량을 처분하면서 재범하지 않을 것을 다짐하고 있는 점, 위와 같은 정상들과 그밖에 피고인의 연령, 성행과 환경, 범행의 동기 및 경위, 범행 후의 정황 등 변론에 나타난 모든 양형조건을 종합하여 주문과 같이 형을 정한다.')\n",
        "testyhs.append('○ 불리한 정상: 혈중알코올농도 수치가 높고 음주상태에서 운전한 거리가 상당한 점, ○ 유리한 정상: 자신의 범행을 시인하며 깊이 반성하는 점, 피고인이 아무런 범죄 전력이 없는 초범인 점, 피고인이 장애를 가지고 있는 점, 위와 같은 정상들과 그밖에 피고인의 연령, 성행과 환경, 범행의 동기 및 경위, 범행 후의 정황 등 변론에 나타난 모든 양형조건을 종합하여 주문과 같이 형을 정한다.')\n",
        "testyhs.append('○ 불리한 정상: 혈중알코올농도 수치가 높고 음주상태에서 운전한 거리가 상당한 점, ○ 유리한 정상: 자신의 범행을 시인하며 깊이 반성하는 점, 피고인이 아무런 범죄 전력이 없는 초범인 점, 대리운전 업체에 전화하여 상당시간을 기다리다 범행에 이른 점, 위와 같은 정상들과 그밖에 피고인의 연령, 성행과 환경, 범행의 동기 및 경위, 범행 후의 정황 등 변론에 나타난 모든 양형조건을 종합하여 주문과 같이 형을 정한다.')\n",
        "testyhs.append('○ 불리한 정상: 혈중알코올농도 수치가 높고 음주상태에서 운전한 거리가 상당한 점, ○ 유리한 정상: 자신의 범행을 시인하며 깊이 반성하는 점, 피고인이 아무런 범죄 전력이 없는 초범인 점, 피고인이 고령인 점, 위와 같은 정상들과 그밖에 피고인의 연령, 성행과 환경, 범행의 동기 및 경위, 범행 후의 정황 등 변론에 나타난 모든 양형조건을 종합하여 주문과 같이 형을 정한다.')\n",
        "\n",
        "for testyh in testyhs:\n",
        "    j.judge(testfact, testyh)"
      ],
      "metadata": {
        "colab": {
          "base_uri": "https://localhost:8080/"
        },
        "id": "9nLRcc8LJJx9",
        "outputId": "66c8a4af-0cc9-45d3-b63d-751c92c22e88"
      },
      "execution_count": 19,
      "outputs": [
        {
          "output_type": "stream",
          "name": "stdout",
          "text": [
            "====================================================================================================\n",
            "사실관계\n",
            "피고인은 2022. 3. 31. 23:38경 서울 마포구 B 인근 도로에서부터 서울 금천구 C 앞 도로에 이르기까지 약 12km 구간에서 혈중알코올농도 0.118%의 술에 취한 상태로 (차량번호 1 생략) 스파크 승용차를 운전하였다.\n",
            "양형의 이유￦n\n",
            "징역[1,18월]\n",
            "유예[0,24월]\n",
            "벌금[0,5000000원]\n",
            "====================================================================================================\n",
            "====================================================================================================\n",
            "사실관계\n",
            "피고인은 2022. 3. 31. 23:38경 서울 마포구 B 인근 도로에서부터 서울 금천구 C 앞 도로에 이르기까지 약 12km 구간에서 혈중알코올농도 0.118%의 술에 취한 상태로 (차량번호 1 생략) 스파크 승용차를 운전하였다.\n",
            "양형의 이유￦n○ 불리한 정상: 혈중알코올농도 수치가 높고 음주상태에서 운전한 거리가 상당한 점, ○ 유리한 정상: 자신의 범행을 시인하며 깊이 반성하는 점, 피고인이 아무런 범죄 전력이 없는 초범인 점, 위와 같은 정상들과 그밖에 피고인의 연령, 성행과 환경, 범행의 동기 및 경위, 범행 후의 정황 등 변론에 나타난 모든 양형조건을 종합하여 주문과 같이 형을 정한다.\n",
            "징역[1,8월]\n",
            "유예[0,24월]\n",
            "벌금[0,5000000원]\n",
            "====================================================================================================\n",
            "====================================================================================================\n",
            "사실관계\n",
            "피고인은 2022. 3. 31. 23:38경 서울 마포구 B 인근 도로에서부터 서울 금천구 C 앞 도로에 이르기까지 약 12km 구간에서 혈중알코올농도 0.118%의 술에 취한 상태로 (차량번호 1 생략) 스파크 승용차를 운전하였다.\n",
            "양형의 이유￦n○ 불리한 정상: 혈중알코올농도 수치가 높고 음주상태에서 운전한 거리가 상당한 점, ○ 유리한 정상: 자신의 범행을 시인하며 깊이 반성하는 점, 피고인이 아무런 범죄 전력이 없는 초범인 점, 월세를 얻어 두 자녀를 양육하고 있는 점, 위와 같은 정상들과 그밖에 피고인의 연령, 성행과 환경, 범행의 동기 및 경위, 범행 후의 정황 등 변론에 나타난 모든 양형조건을 종합하여 주문과 같이 형을 정한다.\n",
            "징역[1,8월]\n",
            "유예[0,24월]\n",
            "벌금[0,5000000원]\n",
            "====================================================================================================\n",
            "====================================================================================================\n",
            "사실관계\n",
            "피고인은 2022. 3. 31. 23:38경 서울 마포구 B 인근 도로에서부터 서울 금천구 C 앞 도로에 이르기까지 약 12km 구간에서 혈중알코올농도 0.118%의 술에 취한 상태로 (차량번호 1 생략) 스파크 승용차를 운전하였다.\n",
            "양형의 이유￦n○ 불리한 정상: 혈중알코올농도 수치가 높고 음주상태에서 운전한 거리가 상당한 점, ○ 유리한 정상: 자신의 범행을 시인하며 깊이 반성하는 점, 피고인이 아무런 범죄 전력이 없는 초범인 점, 피고인이 차량을 처분하면서 재범하지 않을 것을 다짐하고 있는 점, 위와 같은 정상들과 그밖에 피고인의 연령, 성행과 환경, 범행의 동기 및 경위, 범행 후의 정황 등 변론에 나타난 모든 양형조건을 종합하여 주문과 같이 형을 정한다.\n",
            "징역[1,8월]\n",
            "유예[0,24월]\n",
            "벌금[0,5000000원]\n",
            "====================================================================================================\n",
            "====================================================================================================\n",
            "사실관계\n",
            "피고인은 2022. 3. 31. 23:38경 서울 마포구 B 인근 도로에서부터 서울 금천구 C 앞 도로에 이르기까지 약 12km 구간에서 혈중알코올농도 0.118%의 술에 취한 상태로 (차량번호 1 생략) 스파크 승용차를 운전하였다.\n",
            "양형의 이유￦n○ 불리한 정상: 혈중알코올농도 수치가 높고 음주상태에서 운전한 거리가 상당한 점, ○ 유리한 정상: 자신의 범행을 시인하며 깊이 반성하는 점, 피고인이 아무런 범죄 전력이 없는 초범인 점, 피고인이 장애를 가지고 있는 점, 위와 같은 정상들과 그밖에 피고인의 연령, 성행과 환경, 범행의 동기 및 경위, 범행 후의 정황 등 변론에 나타난 모든 양형조건을 종합하여 주문과 같이 형을 정한다.\n",
            "징역[1,8월]\n",
            "유예[0,24월]\n",
            "벌금[0,5000000원]\n",
            "====================================================================================================\n",
            "====================================================================================================\n",
            "사실관계\n",
            "피고인은 2022. 3. 31. 23:38경 서울 마포구 B 인근 도로에서부터 서울 금천구 C 앞 도로에 이르기까지 약 12km 구간에서 혈중알코올농도 0.118%의 술에 취한 상태로 (차량번호 1 생략) 스파크 승용차를 운전하였다.\n",
            "양형의 이유￦n○ 불리한 정상: 혈중알코올농도 수치가 높고 음주상태에서 운전한 거리가 상당한 점, ○ 유리한 정상: 자신의 범행을 시인하며 깊이 반성하는 점, 피고인이 아무런 범죄 전력이 없는 초범인 점, 대리운전 업체에 전화하여 상당시간을 기다리다 범행에 이른 점, 위와 같은 정상들과 그밖에 피고인의 연령, 성행과 환경, 범행의 동기 및 경위, 범행 후의 정황 등 변론에 나타난 모든 양형조건을 종합하여 주문과 같이 형을 정한다.\n",
            "징역[1,8월]\n",
            "유예[0,24월]\n",
            "벌금[0,5000000원]\n",
            "====================================================================================================\n",
            "====================================================================================================\n",
            "사실관계\n",
            "피고인은 2022. 3. 31. 23:38경 서울 마포구 B 인근 도로에서부터 서울 금천구 C 앞 도로에 이르기까지 약 12km 구간에서 혈중알코올농도 0.118%의 술에 취한 상태로 (차량번호 1 생략) 스파크 승용차를 운전하였다.\n",
            "양형의 이유￦n○ 불리한 정상: 혈중알코올농도 수치가 높고 음주상태에서 운전한 거리가 상당한 점, ○ 유리한 정상: 자신의 범행을 시인하며 깊이 반성하는 점, 피고인이 아무런 범죄 전력이 없는 초범인 점, 피고인이 고령인 점, 위와 같은 정상들과 그밖에 피고인의 연령, 성행과 환경, 범행의 동기 및 경위, 범행 후의 정황 등 변론에 나타난 모든 양형조건을 종합하여 주문과 같이 형을 정한다.\n",
            "징역[1,8월]\n",
            "유예[0,24월]\n",
            "벌금[0,5000000원]\n",
            "====================================================================================================\n"
          ]
        }
      ]
    }
  ],
  "metadata": {
    "colab": {
      "collapsed_sections": [
        "fbkSavfrJtex",
        "E168RPwMhuag",
        "906NSvyhRaZS",
        "8y7JCIZCDMEg",
        "uKrxE_MdSJIK"
      ],
      "provenance": [],
      "machine_shape": "hm",
      "include_colab_link": true
    },
    "gpuClass": "standard",
    "kernelspec": {
      "display_name": "Python 3 (ipykernel)",
      "language": "python",
      "name": "python3"
    },
    "language_info": {
      "codemirror_mode": {
        "name": "ipython",
        "version": 3
      },
      "file_extension": ".py",
      "mimetype": "text/x-python",
      "name": "python",
      "nbconvert_exporter": "python",
      "pygments_lexer": "ipython3",
      "version": "3.9.7"
    },
    "accelerator": "GPU"
  },
  "nbformat": 4,
  "nbformat_minor": 0
}