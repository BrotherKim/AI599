{
  "cells": [
    {
      "cell_type": "markdown",
      "metadata": {
        "id": "view-in-github",
        "colab_type": "text"
      },
      "source": [
        "<a href=\"https://colab.research.google.com/github/BrotherKim/AI599/blob/master/Final_eval_template.ipynb\" target=\"_parent\"><img src=\"https://colab.research.google.com/assets/colab-badge.svg\" alt=\"Open In Colab\"/></a>"
      ]
    },
    {
      "cell_type": "markdown",
      "metadata": {
        "id": "CyYyl-NvQ_9W"
      },
      "source": [
        "# KAIST AI599 법률인공지능"
      ]
    },
    {
      "cell_type": "code",
      "source": [
        "# train variables\n",
        "TARGET = 'prison'\n",
        "TARGET_SET = 'avail' # all, avail, nonavail\n",
        "TARGET_START = 1 # 0 if you want zero values, INCLUDE THST VALUE\n",
        "TARGET_END = 36 # INCLUDE THIS VALUE\n",
        "TARGET_APPROX = 2 # '2'개월 또는 '1000000'원\n",
        "TARGET_OPT = 'class' # class, binary\n",
        "TRAIN_COLUMN = 'fy' # raw, facts, statutes, yh, fy\n",
        "MODEL_DIR = '/content/drive/MyDrive/AI599/models'"
      ],
      "metadata": {
        "id": "eyZMs3LrKASA"
      },
      "execution_count": null,
      "outputs": []
    },
    {
      "cell_type": "markdown",
      "source": [
        "## 과제 개요"
      ],
      "metadata": {
        "id": "fbkSavfrJtex"
      }
    },
    {
      "cell_type": "markdown",
      "metadata": {
        "id": "6pAuxVGLrVYM"
      },
      "source": [
        "이름: 강여진, 김동규, 김학성, 김형, 여인경"
      ]
    },
    {
      "cell_type": "markdown",
      "metadata": {
        "id": "OnhBHCVOCE8i"
      },
      "source": [
        "개요\n",
        "- 컬럼은 한글로 사용\n",
        "- model은 영대문자 사용\n",
        "- dataset은 영소문자, 숫자 사용\n",
        "\n",
        "\n",
        "데이터 준비\n",
        "- precedent는 주문을 형량으로 바꾼 것(이하 \"형\"), 양형의 사유(이하 \"양\"), 그리고 나머지(이하 \"나\")로 이루어져 있음. 양형의 사유와 나머지를 포함한 것을 \"양나\"라고 칭함.\n",
        "- \"형\"을 벌금만 있는 경우와 징역만 있는 경우, 그리고 집행유예가 있는 징역의 경우를 추출. 각각 \"벌\", \"징\", \"집\"이라 칭함.\n",
        "- 양형의 사유가 없는 집합에서 \"벌\"-\"나\", \"징\"-\"나\", \"집\"-\"나\" 데이터셋 생성. 이를 a, b, c라고 칭함\n",
        "- 양형의 사유가 있는 집합에서 \"벌\"-\"나\", \"징\"-\"나\", \"집\"-\"나\", \"벌\"-\"양나\", \"징\"-\"양나\", \"집\"-\"양나\" 데이터셋 생성. 이를 d, e, f, g, h, i라고 칭함.\n",
        "- a~i까지 데이터 생성 시, 해당하지 않는 라벨에 대해서도 예측하도록 함.\n",
        "\n",
        "\n",
        "판결문에 대한 형량 예측 모델 학습\n",
        "- 모델 A, B 준비. A에는 a로 \"나\"에 대한 \"벌\" 예측 모델 생성. B에는 b로 \"나\"에 대한 \"징\" 예측 모델 생성, C에는 c로 \"나\"에 대한 \"집\" 예측 모델 생성.\n",
        "\n",
        "\n",
        "예측\n",
        "- A에 d를 eval시켜 \"나\"에 해당하는 \"벌\" 예측. 이 결과쌍을 j라고 칭함.\n",
        "- B에 e를 eval시켜 \"나\"에 해당하는 \"징\" 예측. 이 결과쌍을 k라고 칭함.\n",
        "- C에 f를 eval시켜 \"나\"에 해당하는 \"집\" 예측. 이 결과쌍을 l라고 칭함.\n",
        "\n",
        "\n",
        "양형 사유에 대한 형량 예측 모델 학습\n",
        "- d, g의 \"벌\"의 delta 값을 추출. \"양\"-delta 데이터셋 생성. 이하 m.\n",
        "- e, h의 \"징\"의 delta 값을 추출. \"징\"-delta 데이터셋 생성. 이하 n.\n",
        "- f, i의 \"집\"의 delta 값을 추출. \"집\"-delta 데이터셋 생성. 이하 o.\n",
        "- 모델 C, D, E 준비. m, n, o에 대해 학습."
      ]
    },
    {
      "cell_type": "markdown",
      "metadata": {
        "id": "E168RPwMhuag"
      },
      "source": [
        "## Google drive connect.\n",
        "connect google drive storage for saving checkpoints."
      ]
    },
    {
      "cell_type": "code",
      "execution_count": null,
      "metadata": {
        "colab": {
          "base_uri": "https://localhost:8080/"
        },
        "id": "bfASr02F7njd",
        "outputId": "2f85d1f7-86e8-4f8c-937a-67682208a8b4"
      },
      "outputs": [
        {
          "output_type": "stream",
          "name": "stdout",
          "text": [
            "Drive already mounted at /content/drive; to attempt to forcibly remount, call drive.mount(\"/content/drive\", force_remount=True).\n"
          ]
        }
      ],
      "source": [
        "from google.colab import drive\n",
        "drive.mount('/content/drive')"
      ]
    },
    {
      "cell_type": "code",
      "execution_count": null,
      "metadata": {
        "id": "bq4QUN_i785x"
      },
      "outputs": [],
      "source": [
        "# !rm -rf /content/drive/MyDrive/AI599/models\n",
        "# !mkdir -p /content/drive/MyDrive/AI599/models"
      ]
    },
    {
      "cell_type": "code",
      "execution_count": null,
      "metadata": {
        "id": "4iyNcVC17J8g"
      },
      "outputs": [],
      "source": [
        "# # save models\n",
        "# torch.save(models['prison'], '/content/drive/MyDrive/AI599/models//prison_model.pt')\n",
        "# #torch.save(money_model, '/content/drive/MyDrive/AI599/models/money_model.pt')\n",
        "# #torch.save(yooye_model, '/content/drive/MyDrive/AI599/models/yooye_model.pt')"
      ]
    },
    {
      "cell_type": "markdown",
      "metadata": {
        "id": "906NSvyhRaZS"
      },
      "source": [
        "## lbox_open data 전처리.\n",
        "lbox_open 데이터를 가져와 형태를 분석합니다."
      ]
    },
    {
      "cell_type": "code",
      "execution_count": null,
      "metadata": {
        "id": "wqOEvX-Ahl6z"
      },
      "outputs": [],
      "source": [
        "!pip install -q datasets==2.4.0"
      ]
    },
    {
      "cell_type": "code",
      "execution_count": null,
      "metadata": {
        "colab": {
          "base_uri": "https://localhost:8080/",
          "referenced_widgets": [
            "139636ccc1b541f5beec9b220fa7b100",
            "d1d0f9d05d444f3bade36b0cb60f2fc9",
            "86c817964f6e45b28b5b72960cc4808b",
            "05698802c2614579b933d89839c79b06",
            "9c35f53074fb4d49b8d4bc2fd48ef307",
            "187817d19f9c440cb982024d6070a316",
            "5bb5f5b73c304844a4f34c60c9499fc6",
            "23e76a5e29134c00b612ed5eedcaa87c",
            "7bb8278da91242b289db999131e67079",
            "4c778850bd164b1ca26aefb9118dd305",
            "0e165f566afa4f639eca076ccbd81696"
          ]
        },
        "id": "eT2h6ohOhPex",
        "outputId": "83b93594-4477-4789-f139-c84c85e37694"
      },
      "outputs": [
        {
          "output_type": "stream",
          "name": "stderr",
          "text": [
            "WARNING:datasets.builder:Reusing dataset lbox_open (/root/.cache/huggingface/datasets/lbox___lbox_open/precedent_corpus/0.2.0/3d5761e2d9292b674a2adabbe7f4bc200d1985908e6f657e7953c9bf247da7ae)\n"
          ]
        },
        {
          "output_type": "display_data",
          "data": {
            "text/plain": [
              "  0%|          | 0/1 [00:00<?, ?it/s]"
            ],
            "application/vnd.jupyter.widget-view+json": {
              "version_major": 2,
              "version_minor": 0,
              "model_id": "139636ccc1b541f5beec9b220fa7b100"
            }
          },
          "metadata": {}
        }
      ],
      "source": [
        "import datasets\n",
        "\n",
        "dataset_card = \"lbox/lbox_open\"\n",
        "task = \"precedent_corpus\"\n",
        "data = datasets.load_dataset(dataset_card, task)"
      ]
    },
    {
      "cell_type": "markdown",
      "metadata": {
        "id": "gXE6x6MZha_p"
      },
      "source": [
        "데이터를 개별 확인해 보면, 아래와 같은 형태를 띄고 있는 것을 볼 수 있습니다."
      ]
    },
    {
      "cell_type": "code",
      "execution_count": null,
      "metadata": {
        "colab": {
          "base_uri": "https://localhost:8080/"
        },
        "id": "UHuQrhaQDFe4",
        "outputId": "67f0a2e0-fff9-46f7-b6e5-b6bf9e23effd"
      },
      "outputs": [
        {
          "output_type": "execute_result",
          "data": {
            "text/plain": [
              "DatasetDict({\n",
              "    train: Dataset({\n",
              "        features: ['id', 'precedent'],\n",
              "        num_rows: 150000\n",
              "    })\n",
              "})"
            ]
          },
          "metadata": {},
          "execution_count": 7
        }
      ],
      "source": [
        "data"
      ]
    },
    {
      "cell_type": "code",
      "execution_count": null,
      "metadata": {
        "colab": {
          "base_uri": "https://localhost:8080/"
        },
        "id": "fxSXHz23hevT",
        "outputId": "6d4e4d0c-104c-4d8a-9653-e75c0469cec4"
      },
      "outputs": [
        {
          "output_type": "execute_result",
          "data": {
            "text/plain": [
              "{'id': 40,\n",
              " 'precedent': \"주문\\n1. 제1심판결을 취소한다.\\n2. 원고의 청구를 기각한다\\n3. 소송비용은 제1, 2심을 합하여 원고의 부담으로 한다.\\n\\n청구취지및항소취지\\n1. 청구취지\\n피고는 원고에게 1,500,000원 및 이에 대하여 2004. 7. 9.부터 다 갚는 날까지 연 20%의 비율에 의한 돈을 지급하라.\\n2. 항소취지\\n주문과 같다.\\n\\n이유\\n1. 기초사실\\n다음 각 사실은 당사자 사이에 다툼이 없거나 갑 제1 내지 3호증, 을 제1호증의 각 기재에 변론의 전취지를 종합하여 이를 인정할 수 있다.\\n가. 원고는 2004. 4. 29. 주식회사 세기메디칼에 엑스레이필름대금 150만 원을 송금하려고 하였으나 거래 상대방에 대한 착오를 일으켜, 원고가 거래하던 한국외환은행 주식회사(이하 '외환은행'이라 한다)에 인터넷 뱅킹을 통하여 원고의 예금 150만 원을 피고의 나운동 지점에 개설된 소외인의 계좌로 이체를 의뢰하였고, 외환은행은 즉시 150만 원을 피고 은행에 송금하였으며, 피고는 동시에 소외인의 계좌에 150만 원의 입금기장을 하였다.\\n나. 소외인은 ○○인쇄소를 경영하면서 2003. 8.경까지 원고와 거래하였던 자인데, 2001. 11. 24. 피고로부터 500만 원을 대출받고는 2003. 12. 25. 이후 원리금 5,153,821원을 연체하였다.\\n다. 피고는 2004. 5. 6. 위 대출금채권을 자동채권으로 하고 소외인의 위 150만 원에 대한 예금반환채권을 수동채권으로 하여 상계처리하였다.\\n2. 주장 및 판단\\n가. 청구원인\\n원고는 소외인과는 거래가 없었는데 피고에 개설된 그의 계좌를 주식회사 세기메디칼의 것으로 착오하는 바람에 소외인의 계좌로 150만 원을 입금한 것이므로, 피고가 소외인의 계좌에 150만 원이 입금된 것을 기화로 자신의 그에 대한 대출금채권과 동액 상당을 상계한 것은 법률상 원인 없이 부당이득한 것이므로, 피고는 원고에게 150만 원을 반환해야 할 의무가 있다.\\n나. 판 단\\n일반적으로 예금은 계좌이체의 방법, 즉 특정은행에 계좌를 개설하고 있는 자의 의뢰에 따라 송금의뢰인의 계좌에 예금된 일정금액을 다른 은행(이하 '수취은행'이라 한다)에 계좌를 개설하고 있는 자(이하 '수취인'이라 한다)의 계좌로 현실적인 현금의 수수없이 대체입금시키는 방법에 의하여도 행해질 수 있고, 이 경우 수취인의 예금반환채권은 수취은행이 수취인의 예금계좌에 입금기장을 함으로써 성립된다 할 것인바, 소외인의 피고에 대한 150만 원의 예금반환채권은 피고가 2004. 4. 29. 소외인의 계좌에 입금기장함으로써 일단 성립하였고, 피고가 소외인에 대하여 대출금반환채권을 가지고 있었는데 소외인이 이를 연체한 사실은 앞에서 인정한 바와 같으므로, 피고가 위 대출금반환채권을 자동채권으로 하여 위 예금반환채권과 상계한 것은 특별한 사정이 없는 한 정당하다 할 것이어서, 소외인이 원고에게 150만 원 상당의 부당이득반환의무를 부담하는지 여부는 별론으로 하고, 피고가 원고에게 동액 상당의 부당이득반환의무를 진다는 원고의 위 주장은 이유 없다.\\n3. 결 론\\n그렇다면 원고의 이 사건 청구는 이유 없어 이를 기각할 것인바, 제1심판결은 이와 결론을 달리하여 부당하므로 이를 취소하고 원고의 청구를 기각하기로 하여 주문과 같이 판결한다.\"}"
            ]
          },
          "metadata": {},
          "execution_count": 8
        }
      ],
      "source": [
        "data_t = data[\"train\"]\n",
        "data_t[40]"
      ]
    },
    {
      "cell_type": "markdown",
      "metadata": {
        "id": "8y7JCIZCDMEg"
      },
      "source": [
        "## filtering lbox_open data\n",
        "2019.6.25 이후에 발생한 음주운전 데이터를 추출합니다."
      ]
    },
    {
      "cell_type": "code",
      "execution_count": null,
      "metadata": {
        "id": "qKRKoMW5IVFa"
      },
      "outputs": [],
      "source": [
        "import pandas as pd\n",
        "df = pd.DataFrame( (v for v in data['train']) )\n",
        "# df = pd.Series( (v['precedent'] for v in data['train']) )"
      ]
    },
    {
      "cell_type": "code",
      "execution_count": null,
      "metadata": {
        "colab": {
          "base_uri": "https://localhost:8080/"
        },
        "id": "5g8CoQ4kxA4O",
        "outputId": "db6cfdc5-c89a-4765-9b05-53162759b671"
      },
      "outputs": [
        {
          "output_type": "stream",
          "name": "stdout",
          "text": [
            "4821\n"
          ]
        }
      ],
      "source": [
        "# 주문과 형량이 나타나는 사용 가능한 데이터 우선 추출\n",
        "avail_df = df[ \\\n",
        "           df['precedent'].str.contains('법령의 적용') \\\n",
        "           & df['precedent'].str.contains('피고인을') \\\n",
        "           & df['precedent'].str.contains('처한다.') \\\n",
        "           & df['precedent'].str.contains('2020|2021') # 2019.6.25 개정 이후 사건만 다룸\n",
        "           & df['precedent'].str.contains('도로교통법') \\\n",
        "           #& df['precedent'].str.contains('제44조 제1항') \n",
        "           ]\n",
        "\n",
        "print(len(avail_df))"
      ]
    },
    {
      "cell_type": "code",
      "execution_count": null,
      "metadata": {
        "colab": {
          "base_uri": "https://localhost:8080/"
        },
        "id": "N4USyV5vxIlo",
        "outputId": "2b2251db-e93a-466e-9b9b-aace24d513ff"
      },
      "outputs": [
        {
          "output_type": "execute_result",
          "data": {
            "text/plain": [
              "            id                                          precedent\n",
              "38          38  주문\\n피고인을 벌금 1,000만원에 처한다.\\n피고인이 위 벌금을 납입하지 아니하...\n",
              "205        205  주문\\n피고인을 징역 1년에 처한다.\\n다만, 이 판결 확정일부터 2년간 위 형의 ...\n",
              "238        238  주문\\n피고인을 징역 1년 6월에 처한다.\\n다만, 이 판결 확정일로부터 2년간 위...\n",
              "248        248  주문\\n피고인을 벌금 12,000,000원에 처한다.\\n피고인이 위 벌금을 납입하지...\n",
              "757        757  주문\\n피고인을 징역 1년에 처한다.\\n다만, 이 판결 확정일로부터 2년간 위 형의...\n",
              "...        ...                                                ...\n",
              "148546  148546  주문\\n피고인을 징역 1년 6월에 처한다.\\n다만, 이 판결 확정일부터 2년간 위 ...\n",
              "148775  148775  주문\\n피고인을 벌금 1,500만 원에 처한다.\\n피고인이 위 벌금을 납입하지 아니...\n",
              "148895  148895  주문\\n피고인을 징역 1년 6월에 처한다.\\n다만, 이 판결 확정일로부터 3년간 위...\n",
              "149213  149213  주문\\n피고인을 징역 2년에 처한다.\\n다만, 이 판결 확정일부터 3년간 위 형의 ...\n",
              "149629  149629  주문\\n피고인을 벌금 15,000,000원에 처한다.\\n피고인이 위 벌금을 납입하지...\n",
              "\n",
              "[744 rows x 2 columns]"
            ],
            "text/html": [
              "\n",
              "  <div id=\"df-884f0b81-0db5-4c5e-8e5d-2eb209701a9e\">\n",
              "    <div class=\"colab-df-container\">\n",
              "      <div>\n",
              "<style scoped>\n",
              "    .dataframe tbody tr th:only-of-type {\n",
              "        vertical-align: middle;\n",
              "    }\n",
              "\n",
              "    .dataframe tbody tr th {\n",
              "        vertical-align: top;\n",
              "    }\n",
              "\n",
              "    .dataframe thead th {\n",
              "        text-align: right;\n",
              "    }\n",
              "</style>\n",
              "<table border=\"1\" class=\"dataframe\">\n",
              "  <thead>\n",
              "    <tr style=\"text-align: right;\">\n",
              "      <th></th>\n",
              "      <th>id</th>\n",
              "      <th>precedent</th>\n",
              "    </tr>\n",
              "  </thead>\n",
              "  <tbody>\n",
              "    <tr>\n",
              "      <th>38</th>\n",
              "      <td>38</td>\n",
              "      <td>주문\\n피고인을 벌금 1,000만원에 처한다.\\n피고인이 위 벌금을 납입하지 아니하...</td>\n",
              "    </tr>\n",
              "    <tr>\n",
              "      <th>205</th>\n",
              "      <td>205</td>\n",
              "      <td>주문\\n피고인을 징역 1년에 처한다.\\n다만, 이 판결 확정일부터 2년간 위 형의 ...</td>\n",
              "    </tr>\n",
              "    <tr>\n",
              "      <th>238</th>\n",
              "      <td>238</td>\n",
              "      <td>주문\\n피고인을 징역 1년 6월에 처한다.\\n다만, 이 판결 확정일로부터 2년간 위...</td>\n",
              "    </tr>\n",
              "    <tr>\n",
              "      <th>248</th>\n",
              "      <td>248</td>\n",
              "      <td>주문\\n피고인을 벌금 12,000,000원에 처한다.\\n피고인이 위 벌금을 납입하지...</td>\n",
              "    </tr>\n",
              "    <tr>\n",
              "      <th>757</th>\n",
              "      <td>757</td>\n",
              "      <td>주문\\n피고인을 징역 1년에 처한다.\\n다만, 이 판결 확정일로부터 2년간 위 형의...</td>\n",
              "    </tr>\n",
              "    <tr>\n",
              "      <th>...</th>\n",
              "      <td>...</td>\n",
              "      <td>...</td>\n",
              "    </tr>\n",
              "    <tr>\n",
              "      <th>148546</th>\n",
              "      <td>148546</td>\n",
              "      <td>주문\\n피고인을 징역 1년 6월에 처한다.\\n다만, 이 판결 확정일부터 2년간 위 ...</td>\n",
              "    </tr>\n",
              "    <tr>\n",
              "      <th>148775</th>\n",
              "      <td>148775</td>\n",
              "      <td>주문\\n피고인을 벌금 1,500만 원에 처한다.\\n피고인이 위 벌금을 납입하지 아니...</td>\n",
              "    </tr>\n",
              "    <tr>\n",
              "      <th>148895</th>\n",
              "      <td>148895</td>\n",
              "      <td>주문\\n피고인을 징역 1년 6월에 처한다.\\n다만, 이 판결 확정일로부터 3년간 위...</td>\n",
              "    </tr>\n",
              "    <tr>\n",
              "      <th>149213</th>\n",
              "      <td>149213</td>\n",
              "      <td>주문\\n피고인을 징역 2년에 처한다.\\n다만, 이 판결 확정일부터 3년간 위 형의 ...</td>\n",
              "    </tr>\n",
              "    <tr>\n",
              "      <th>149629</th>\n",
              "      <td>149629</td>\n",
              "      <td>주문\\n피고인을 벌금 15,000,000원에 처한다.\\n피고인이 위 벌금을 납입하지...</td>\n",
              "    </tr>\n",
              "  </tbody>\n",
              "</table>\n",
              "<p>744 rows × 2 columns</p>\n",
              "</div>\n",
              "      <button class=\"colab-df-convert\" onclick=\"convertToInteractive('df-884f0b81-0db5-4c5e-8e5d-2eb209701a9e')\"\n",
              "              title=\"Convert this dataframe to an interactive table.\"\n",
              "              style=\"display:none;\">\n",
              "        \n",
              "  <svg xmlns=\"http://www.w3.org/2000/svg\" height=\"24px\"viewBox=\"0 0 24 24\"\n",
              "       width=\"24px\">\n",
              "    <path d=\"M0 0h24v24H0V0z\" fill=\"none\"/>\n",
              "    <path d=\"M18.56 5.44l.94 2.06.94-2.06 2.06-.94-2.06-.94-.94-2.06-.94 2.06-2.06.94zm-11 1L8.5 8.5l.94-2.06 2.06-.94-2.06-.94L8.5 2.5l-.94 2.06-2.06.94zm10 10l.94 2.06.94-2.06 2.06-.94-2.06-.94-.94-2.06-.94 2.06-2.06.94z\"/><path d=\"M17.41 7.96l-1.37-1.37c-.4-.4-.92-.59-1.43-.59-.52 0-1.04.2-1.43.59L10.3 9.45l-7.72 7.72c-.78.78-.78 2.05 0 2.83L4 21.41c.39.39.9.59 1.41.59.51 0 1.02-.2 1.41-.59l7.78-7.78 2.81-2.81c.8-.78.8-2.07 0-2.86zM5.41 20L4 18.59l7.72-7.72 1.47 1.35L5.41 20z\"/>\n",
              "  </svg>\n",
              "      </button>\n",
              "      \n",
              "  <style>\n",
              "    .colab-df-container {\n",
              "      display:flex;\n",
              "      flex-wrap:wrap;\n",
              "      gap: 12px;\n",
              "    }\n",
              "\n",
              "    .colab-df-convert {\n",
              "      background-color: #E8F0FE;\n",
              "      border: none;\n",
              "      border-radius: 50%;\n",
              "      cursor: pointer;\n",
              "      display: none;\n",
              "      fill: #1967D2;\n",
              "      height: 32px;\n",
              "      padding: 0 0 0 0;\n",
              "      width: 32px;\n",
              "    }\n",
              "\n",
              "    .colab-df-convert:hover {\n",
              "      background-color: #E2EBFA;\n",
              "      box-shadow: 0px 1px 2px rgba(60, 64, 67, 0.3), 0px 1px 3px 1px rgba(60, 64, 67, 0.15);\n",
              "      fill: #174EA6;\n",
              "    }\n",
              "\n",
              "    [theme=dark] .colab-df-convert {\n",
              "      background-color: #3B4455;\n",
              "      fill: #D2E3FC;\n",
              "    }\n",
              "\n",
              "    [theme=dark] .colab-df-convert:hover {\n",
              "      background-color: #434B5C;\n",
              "      box-shadow: 0px 1px 3px 1px rgba(0, 0, 0, 0.15);\n",
              "      filter: drop-shadow(0px 1px 2px rgba(0, 0, 0, 0.3));\n",
              "      fill: #FFFFFF;\n",
              "    }\n",
              "  </style>\n",
              "\n",
              "      <script>\n",
              "        const buttonEl =\n",
              "          document.querySelector('#df-884f0b81-0db5-4c5e-8e5d-2eb209701a9e button.colab-df-convert');\n",
              "        buttonEl.style.display =\n",
              "          google.colab.kernel.accessAllowed ? 'block' : 'none';\n",
              "\n",
              "        async function convertToInteractive(key) {\n",
              "          const element = document.querySelector('#df-884f0b81-0db5-4c5e-8e5d-2eb209701a9e');\n",
              "          const dataTable =\n",
              "            await google.colab.kernel.invokeFunction('convertToInteractive',\n",
              "                                                     [key], {});\n",
              "          if (!dataTable) return;\n",
              "\n",
              "          const docLinkHtml = 'Like what you see? Visit the ' +\n",
              "            '<a target=\"_blank\" href=https://colab.research.google.com/notebooks/data_table.ipynb>data table notebook</a>'\n",
              "            + ' to learn more about interactive tables.';\n",
              "          element.innerHTML = '';\n",
              "          dataTable['output_type'] = 'display_data';\n",
              "          await google.colab.output.renderOutput(dataTable, element);\n",
              "          const docLink = document.createElement('div');\n",
              "          docLink.innerHTML = docLinkHtml;\n",
              "          element.appendChild(docLink);\n",
              "        }\n",
              "      </script>\n",
              "    </div>\n",
              "  </div>\n",
              "  "
            ]
          },
          "metadata": {},
          "execution_count": 11
        }
      ],
      "source": [
        "# 양형의 사유가 있는 것과 없는 것 분리\n",
        "yesy = avail_df[avail_df['precedent'].str.contains('양형의 이유')]\n",
        "noy = avail_df[~avail_df['precedent'].str.contains('양형의 이유')]\n",
        "yesy\n",
        "noy"
      ]
    },
    {
      "cell_type": "code",
      "execution_count": null,
      "metadata": {
        "id": "OAun4JvWOU2w"
      },
      "outputs": [],
      "source": [
        "# Precedent 쪼개기 위한 function set\n",
        "\n",
        "import re\n",
        "\n",
        "class Precedent:\n",
        "    def __init__(self, rawPrecedent):\n",
        "        self.raw = rawPrecedent\n",
        "        self.__parse__()\n",
        "        \n",
        "    def __parse__(self):\n",
        "        # 주문 - 범죄사실 - 법령의적용 - 양형의이유\n",
        "        # ms - facts - statuts - yh\n",
        "        # fy: facts + yh\n",
        "        retval = re.search(r'주문[\\n]*([^\\n].+[^\\n])[\\n]+이유[\\n]*([^\\n].+[^\\n])[\\n]*', self.raw, re.S)\n",
        "        self.ms = retval.group(1) # Main Sentence, 주문\n",
        "        self.ms = self.ms.strip()\n",
        "\n",
        "        self.etc = retval.group(2)\n",
        "\n",
        "        self.yh = ''\n",
        "        l = self.etc.split('양형의 이유')\n",
        "        if 1 < len(l):\n",
        "            self.etc = l[0].strip()\n",
        "            self.yh = l[1].strip()\n",
        "\n",
        "        self.statutes = ''\n",
        "        l = self.etc.split('법령의 적용')\n",
        "        if 1 < len(l):\n",
        "            self.etc = l[0].strip()\n",
        "            self.statutes = l[1].strip()\n",
        "\n",
        "        self.facts = self.etc\n",
        "\n",
        "        self.fy = f'{self.facts}\\n{self.yh}'\n",
        "\n",
        "        # self.etc = self.etc.replace('\\n', ' ')\n",
        "        # self.etc = self.etc.replace('에 대한 해당법조 및 형의 선택', '')\n",
        "        # self.etc = self.etc.replace('에 대한 해당법조', '')\n",
        "        # self.etc = self.etc.replace('형의 선택', '')\n",
        "        # self.etc = self.etc.replace('피고인의 법정진술', '')\n",
        "        # self.etc = self.etc.replace('[', '')\n",
        "        # self.etc = self.etc.replace(']', '')\n",
        "        # self.etc = self.etc.replace('1. ', '')\n",
        "        # self.etc = self.etc.replace('2. ', '')\n",
        "        # self.etc = self.etc.replace('3. ', '')\n",
        "        # self.etc = self.etc.replace('4. ', '')\n",
        "        # self.etc = self.etc.replace('범 죄 사 실', '')\n",
        "        # self.etc = self.etc.replace('범죄전력', '')\n",
        "        # self.etc = self.etc.replace('범죄사실', '')\n",
        "        # self.etc = self.etc.replace('증거의 요지', '')\n",
        "        # self.etc = self.etc.replace('법령의 적용', '')\n",
        "        # self.etc = self.etc.replace('■', '')\n",
        "        # self.etc = self.etc.strip()\n",
        "\n",
        "        # self.ms = self.ms.replace('\\n', ' ')\n",
        "        # self.ms = self.ms.strip()\n",
        "\n",
        "        self.raw = self.raw.strip()\n",
        "\n",
        "\n",
        "        # self.etc = self.etc.replace('\\n', ' ')\n",
        "        # self.ms = self.ms.replace('\\n', ' ')\n",
        "        # self.raw = self.raw.replace('\\n', ' ')\n",
        "        # self.rsl = 'asf' # Reason of Sentence in law, 양형의 사유\n",
        "        # self.statutes = 'df' # statutes, 법령\n",
        "\n",
        "def getNumericInKorean(kStrNum):\n",
        "    retval = 1\n",
        "    retStr = kStrNum\n",
        "    retStr = retStr.replace(',', '')\n",
        "    if '만' in retStr:\n",
        "        retval = retval * 10000\n",
        "        retStr = retStr.replace('만', '')\n",
        "    if '천' in retStr:\n",
        "        retval = retval * 1000\n",
        "        retStr = retStr.replace('천', '')\n",
        "    retval = int(retStr) * retval\n",
        "    return retval\n",
        "\n",
        "def getMonthFromText(s):\n",
        "    year  = re.findall(r'(\\d+)년', s, re.S)\n",
        "    y = 0 if len(year) == 0 else (int)(year[0]);\n",
        "    month  = re.findall(r'(\\d+)개?월', s, re.S)\n",
        "    m = 0 if len(month) == 0 else (int)(month[0]);\n",
        "    return y*12 + m\n",
        "\n",
        "def generateDataSet(dataframe, max_cnt, classopt='class'):\n",
        "    retval = pd.DataFrame({\\\n",
        "                           'id': pd.Series(dtype='int'), 'money': pd.Series(dtype='int'), 'prison': pd.Series(dtype='int'),'yooye': pd.Series(dtype='int'),\\\n",
        "                           'facts':[], 'statutes':[], 'yh':[], 'fy':[], 'raw':[]})\n",
        "    cnts = {}\n",
        "    for i, row in dataframe.iterrows():\n",
        "        p = Precedent(row['precedent'])\n",
        "        #print(f'p.ms: {p.ms}\\n p.etc: {p.etc}')\n",
        "        if '처한다' in p.ms and p.ms.startswith('피') and '및' not in p.ms:\n",
        "            info = {}\n",
        "            info['money'] = 0\n",
        "            info['prison'] = 0\n",
        "            info['yooye'] = 0\n",
        "            # 주문\\n피고인을 벌금 14,000,000(일천사백만)원에 처한다.\\\n",
        "            money  = re.findall(r'벌금\\s+([^\\s\\(\\)]+)\\s*원', p.ms, re.S)\n",
        "            if 0 < len(money): # 벌금형\n",
        "                if classopt == 'class':\n",
        "                    info['money'] = '0' if len(money) == 0 else getNumericInKorean(money[0])\n",
        "                else:\n",
        "                    info['money'] = '0' if len(money) == 0 else 1\n",
        "            else: # 금고형, 집행유예 포함\n",
        "                if '유예' in p.ms: # 집행유예 포함된 금고형.\n",
        "                    msList = p.ms.split('처한다')\n",
        "                    info['yooye'] = getMonthFromText(msList[1]) if classopt == 'class' else 1\n",
        "                    info['prison'] = getMonthFromText(msList[0]) if classopt == 'class' else 1\n",
        "                    # yy = 1\n",
        "                    #prison = 1\n",
        "                else: # 그냥 금고형\n",
        "                    info['prison'] = getMonthFromText(p.ms) if classopt == 'class' else 1\n",
        "                    #prison = 1\n",
        "\n",
        "            if TARGET_START <= info[TARGET] and info[TARGET] <= TARGET_END:\n",
        "            #    if prison in [0, 12, 18]:\n",
        "                if info[TARGET] not in cnts:\n",
        "                    cnts[info[TARGET]] = 0\n",
        "                cnts[info[TARGET]] = cnts[info[TARGET]] + 1\n",
        "                if cnts[info[TARGET]] > max_cnt:\n",
        "                    continue\n",
        "                retval.loc[i] = [i, [info['money']], [info['prison']], [info['yooye']], p.facts, p.statutes, p.yh, p.fy, p.raw]\n",
        "            \n",
        "            #retval.loc[i] = [i, [mn], [prison], [yy], p.etc, p.raw]  \n",
        "    return retval"
      ]
    },
    {
      "cell_type": "code",
      "execution_count": null,
      "metadata": {
        "id": "BtI7yK8Uyyuj"
      },
      "outputs": [],
      "source": [
        "# 양형의 사유가 없는 집합에서 \"벌\"-\"나\", \"징\"-\"나\" 데이터셋 생성. 이를 a, b라고 칭함\n",
        "dataset = {}\n",
        "dataset['all'] = generateDataSet(avail_df, 200, TARGET_OPT)\n",
        "dataset['avail'] = generateDataSet(yesy, 174, TARGET_OPT)\n",
        "dataset['nonavail'] = generateDataSet(noy, 34, TARGET_OPT)"
      ]
    },
    {
      "cell_type": "code",
      "execution_count": null,
      "metadata": {
        "colab": {
          "base_uri": "https://localhost:8080/"
        },
        "id": "8WmTtAqREl_x",
        "outputId": "7fcebe82-a719-414d-817d-1b6e09e8a056"
      },
      "outputs": [
        {
          "output_type": "error",
          "ename": "TypeError",
          "evalue": "ignored",
          "traceback": [
            "\u001b[0;31m---------------------------------------------------------------------------\u001b[0m",
            "\u001b[0;31mTypeError\u001b[0m                                 Traceback (most recent call last)",
            "\u001b[0;32mpandas/_libs/hashtable_class_helper.pxi\u001b[0m in \u001b[0;36mpandas._libs.hashtable.PyObjectHashTable.map_locations\u001b[0;34m()\u001b[0m\n",
            "\u001b[0;31mTypeError\u001b[0m: unhashable type: 'list'"
          ]
        },
        {
          "output_type": "stream",
          "name": "stderr",
          "text": [
            "Exception ignored in: 'pandas._libs.index.IndexEngine._call_map_locations'\n",
            "Traceback (most recent call last):\n",
            "  File \"pandas/_libs/hashtable_class_helper.pxi\", line 5231, in pandas._libs.hashtable.PyObjectHashTable.map_locations\n",
            "TypeError: unhashable type: 'list'\n"
          ]
        },
        {
          "output_type": "execute_result",
          "data": {
            "text/plain": [
              "[12]    200\n",
              "[18]    200\n",
              "[24]    196\n",
              "[14]    190\n",
              "[8]     153\n",
              "[6]     148\n",
              "[10]    117\n",
              "[16]     82\n",
              "[4]      41\n",
              "[30]     39\n",
              "[15]     29\n",
              "[36]     22\n",
              "[20]     10\n",
              "[5]       6\n",
              "[3]       5\n",
              "[28]      5\n",
              "[2]       5\n",
              "[9]       3\n",
              "[22]      3\n",
              "[7]       2\n",
              "[26]      2\n",
              "[1]       1\n",
              "Name: prison, dtype: int64"
            ]
          },
          "metadata": {},
          "execution_count": 14
        }
      ],
      "source": [
        "dataset['all'][TARGET].value_counts()"
      ]
    },
    {
      "cell_type": "code",
      "execution_count": null,
      "metadata": {
        "colab": {
          "base_uri": "https://localhost:8080/"
        },
        "id": "RXuPwcQZ0jD4",
        "outputId": "41a6d1da-6a80-4a4b-cdc9-a92bf541a7e1"
      },
      "outputs": [
        {
          "output_type": "error",
          "ename": "TypeError",
          "evalue": "ignored",
          "traceback": [
            "\u001b[0;31m---------------------------------------------------------------------------\u001b[0m",
            "\u001b[0;31mTypeError\u001b[0m                                 Traceback (most recent call last)",
            "\u001b[0;32mpandas/_libs/hashtable_class_helper.pxi\u001b[0m in \u001b[0;36mpandas._libs.hashtable.PyObjectHashTable.map_locations\u001b[0;34m()\u001b[0m\n",
            "\u001b[0;31mTypeError\u001b[0m: unhashable type: 'list'"
          ]
        },
        {
          "output_type": "stream",
          "name": "stderr",
          "text": [
            "Exception ignored in: 'pandas._libs.index.IndexEngine._call_map_locations'\n",
            "Traceback (most recent call last):\n",
            "  File \"pandas/_libs/hashtable_class_helper.pxi\", line 5231, in pandas._libs.hashtable.PyObjectHashTable.map_locations\n",
            "TypeError: unhashable type: 'list'\n"
          ]
        },
        {
          "output_type": "execute_result",
          "data": {
            "text/plain": [
              "[12]    174\n",
              "[14]    174\n",
              "[18]    174\n",
              "[24]    171\n",
              "[8]     132\n",
              "[6]     128\n",
              "[10]    108\n",
              "[16]     79\n",
              "[30]     39\n",
              "[4]      34\n",
              "[15]     27\n",
              "[36]     22\n",
              "[20]     10\n",
              "[5]       5\n",
              "[2]       5\n",
              "[3]       5\n",
              "[28]      4\n",
              "[22]      3\n",
              "[9]       3\n",
              "[26]      2\n",
              "[7]       1\n",
              "[1]       1\n",
              "Name: prison, dtype: int64"
            ]
          },
          "metadata": {},
          "execution_count": 15
        }
      ],
      "source": [
        "dataset['avail'][TARGET].value_counts()"
      ]
    },
    {
      "cell_type": "code",
      "source": [
        "dataset['nonavail'][TARGET].value_counts()"
      ],
      "metadata": {
        "colab": {
          "base_uri": "https://localhost:8080/"
        },
        "id": "ibOuUHWdQMwJ",
        "outputId": "35cf9c1d-739b-4c81-d6a2-bb29badec541"
      },
      "execution_count": null,
      "outputs": [
        {
          "output_type": "error",
          "ename": "TypeError",
          "evalue": "ignored",
          "traceback": [
            "\u001b[0;31m---------------------------------------------------------------------------\u001b[0m",
            "\u001b[0;31mTypeError\u001b[0m                                 Traceback (most recent call last)",
            "\u001b[0;32mpandas/_libs/hashtable_class_helper.pxi\u001b[0m in \u001b[0;36mpandas._libs.hashtable.PyObjectHashTable.map_locations\u001b[0;34m()\u001b[0m\n",
            "\u001b[0;31mTypeError\u001b[0m: unhashable type: 'list'"
          ]
        },
        {
          "output_type": "stream",
          "name": "stderr",
          "text": [
            "Exception ignored in: 'pandas._libs.index.IndexEngine._call_map_locations'\n",
            "Traceback (most recent call last):\n",
            "  File \"pandas/_libs/hashtable_class_helper.pxi\", line 5231, in pandas._libs.hashtable.PyObjectHashTable.map_locations\n",
            "TypeError: unhashable type: 'list'\n"
          ]
        },
        {
          "output_type": "execute_result",
          "data": {
            "text/plain": [
              "[12]    34\n",
              "[18]    34\n",
              "[24]    25\n",
              "[8]     21\n",
              "[6]     20\n",
              "[14]    16\n",
              "[10]     9\n",
              "[4]      7\n",
              "[16]     3\n",
              "[15]     2\n",
              "[7]      1\n",
              "[5]      1\n",
              "[28]     1\n",
              "Name: prison, dtype: int64"
            ]
          },
          "metadata": {},
          "execution_count": 16
        }
      ]
    },
    {
      "cell_type": "code",
      "source": [
        "# # hs's rule\n",
        "# [1,2,3,4,5]\n",
        "# [6,10]\n",
        "# []\n",
        "# []\n",
        "# []\n",
        "\n",
        "# # yk's rule\n",
        "# [1 2 3]\n",
        "# [4 5 6]\n",
        "# [7 8 9] 8\n",
        "# [10 11 12]\n",
        "# [13 14 15] 14\n",
        "# [16 17 18]\n",
        "\n",
        "# # 1~5 / 6~8 / 9~12 / 13~15 / 16~18 / 19~22 / 24~29 / 30~36 /"
      ],
      "metadata": {
        "id": "dZyCdPKf7WzU"
      },
      "execution_count": null,
      "outputs": []
    },
    {
      "cell_type": "markdown",
      "metadata": {
        "id": "uKrxE_MdSJIK"
      },
      "source": [
        "## 전처리된 데이터로 학습.\n",
        "모델이 학습할 수 있도록 데이터의 형태를 변경해 학습합니다."
      ]
    },
    {
      "cell_type": "code",
      "execution_count": null,
      "metadata": {
        "id": "gWrik2UTP46o"
      },
      "outputs": [],
      "source": [
        "!pip install --quiet transformers==4.22.0\n",
        "!pip install --quiet sentencepiece==0.1.97\n",
        "!pip install --quiet pytorch-lightning==1.7.6\n",
        "!pip install --quiet sklearn"
      ]
    },
    {
      "cell_type": "code",
      "execution_count": null,
      "metadata": {
        "id": "Po4pImMk8Fp7"
      },
      "outputs": [],
      "source": [
        "import os\n",
        "os.environ['TOKENIZERS_PARALLELISM'] = 'false'\n",
        "\n",
        "from functools import reduce\n",
        "import random\n",
        "\n",
        "import torch\n",
        "import numpy as np\n",
        "import transformers\n",
        "import pytorch_lightning as pl\n",
        "from transformers import AutoTokenizer, BertForSequenceClassification\n",
        "\n",
        "import pandas as pd"
      ]
    },
    {
      "cell_type": "code",
      "execution_count": null,
      "metadata": {
        "id": "oLwzk-wl7_52"
      },
      "outputs": [],
      "source": [
        "class StatutesDataModule(pl.LightningDataModule):\n",
        "    def __init__(self, column, trainset, statutes, tokenizer, data, batch_size=16, max_input_len=512):\n",
        "        super().__init__()\n",
        "        self.column = column\n",
        "        self.trainset = trainset\n",
        "        self.statutes = statutes\n",
        "        self.tokenizer = tokenizer\n",
        "        self.data = data\n",
        "        self.batch_size = batch_size\n",
        "        self.max_input_len = max_input_len \n",
        "    \n",
        "    def setup(self, stage):\n",
        "        pass\n",
        "    \n",
        "    def train_dataloader(self):\n",
        "        return torch.utils.data.DataLoader(self.data['train'], batch_size=self.batch_size, shuffle=True, collate_fn=self._collate_fn)\n",
        "    \n",
        "    def val_dataloader(self):\n",
        "        return torch.utils.data.DataLoader(self.data['valid'], batch_size=self.batch_size*2, shuffle=False, collate_fn=self._collate_fn)\n",
        "    \n",
        "    def test_dataloader(self):\n",
        "        return torch.utils.data.DataLoader(self.data['test'], batch_size=self.batch_size*2, shuffle=False, collate_fn=self._collate_fn)\n",
        "    \n",
        "    def _collate_fn(self, batch):\n",
        "        inputs = self.tokenizer([x[self.trainset] for x in batch], max_length=self.max_input_len, padding=True, truncation=True, return_tensors='pt')\n",
        "        labels = [x[self.column] for x in batch]\n",
        "\n",
        "        return inputs, labels"
      ]
    },
    {
      "cell_type": "code",
      "execution_count": null,
      "metadata": {
        "id": "WIDQ5fvG7_4r"
      },
      "outputs": [],
      "source": [
        "class StatutesClassifier(pl.LightningModule):\n",
        "    def __init__(self, statutes, backbone, learning_rate=1e-5, mode='multi-class', approx_val=2):\n",
        "        super().__init__()\n",
        "        self.statutes = statutes\n",
        "        self.backbone = backbone\n",
        "        self.learning_rate = learning_rate\n",
        "        self.mode = mode\n",
        "        self.criterion = torch.nn.CrossEntropyLoss() if mode == 'multi-class' else torch.nn.BCEWithLogitsLoss()\n",
        "        self.approx_val = approx_val\n",
        "        #self.criterion = torch.nn.MSELoss()\n",
        "        #self.criterion = torch.nn.BCEWithLogitsLoss()\n",
        "    \n",
        "    def forward(self, batch):\n",
        "        inputs, labels = batch\n",
        "        logits = self.backbone(**inputs).logits\n",
        "        targets = torch.zeros_like(logits)\n",
        "        for i, label in enumerate(labels):\n",
        "            label_id = [(self.statutes.index(x) if x in self.statutes else 0) for x in label]\n",
        "            targets[i, label_id] = 1 / len(label_id) if self.mode == 'multi-class' else 1\n",
        "        loss = self.criterion(logits, targets)\n",
        "\n",
        "        return loss, logits\n",
        "\n",
        "    def training_step(self, batch, batch_idx):\n",
        "        loss, _ = self.forward(batch)\n",
        "        return {'loss': loss}\n",
        "    \n",
        "    def validation_step(self, batch, batch_idx):\n",
        "        return self._evaluation_step(batch) \n",
        "    \n",
        "    def validation_epoch_end(self, outputs):\n",
        "        self._evaluation_epoch_end(outputs)\n",
        "\n",
        "    def test_step(self, batch, batch_idx):\n",
        "        return self._evaluation_step(batch) \n",
        "\n",
        "    def test_epoch_end(self, outputs):\n",
        "        self._evaluation_epoch_end(outputs, True)\n",
        "   \n",
        "    def _evaluation_step(self, batch):\n",
        "        loss, logits = self.forward(batch)\n",
        "        _, gts = batch\n",
        "        if self.mode == 'multi-class':\n",
        "            prs = np.array(self.statutes)[logits.argmax(-1).cpu()].tolist()\n",
        "        else:\n",
        "            prs = [np.array(self.statutes)[np.where(logit.sigmoid().cpu() > 0.5)[0]] for logit in logits]\n",
        "\n",
        "        if isinstance(prs, list) == False:\n",
        "            prs = [prs]\n",
        "        \n",
        "        return {'loss': loss.item(), 'gts': gts, 'prs': prs}\n",
        "\n",
        "    def _evaluation_epoch_end(self, outputs, test=False):\n",
        "        avg_loss = np.mean([x['loss'] for x in outputs])\n",
        "        print(outputs)\n",
        "        gts = reduce(lambda x,y: x + y, [x['gts'] for x in outputs], [])\n",
        "        prs = reduce(lambda x,y: x + y, [x['prs'] for x in outputs], [])\n",
        "        if self.mode == 'multi-class':\n",
        "            #acc = sum([(pr in gt) for gt, pr in zip(gts, prs)]) / len(gts)\n",
        "            acc = sum([abs(pr - gt[0] <= self.approx_val) for gt, pr in zip(gts, prs)]) / len(gts)\n",
        "        else:\n",
        "            acc = sum([(set(pr) == set(gt)) for gt, pr in zip(gts, prs)]) / len(gts)\n",
        "        \n",
        "        print('='*50)\n",
        "        print(f'avg_loss: {avg_loss}')\n",
        "        print(f'ACC: {acc}')\n",
        "        \n",
        "        #target_ids = random.sample(range(len(gts)), 2)\n",
        "        target_ids = random.sample(range(len(prs)), 2)\n",
        "        print(gts)\n",
        "        print(prs)\n",
        "        print(f'target_ids: {target_ids}')\n",
        "        for target_id in target_ids:\n",
        "            print(f'GT: {gts[target_id]}\\t\\t\\tPR: {prs[target_id]}')\n",
        "        \n",
        "        if self.mode == 'multi-class' and test:\n",
        "            #df = pd.DataFrame(columns=['idx', 'gt', 'pr', 'etc'])\n",
        "            #df = pd.DataFrame({'idx': pd.Series(dtype='int'), 'gt':pd.Series(dtype='int'), 'pr':pd.Series(dtype='int'),'etc':[]})\n",
        "            df = pd.DataFrame({'idx': pd.Series(dtype='int'), 'gt':pd.Series(dtype='int'), 'pr':pd.Series(dtype='int')})\n",
        "            print(data)\n",
        "            for i, (gt, pr) in enumerate(zip(gts, prs)):\n",
        "                if pr not in gt:\n",
        "                    # df = df.append(pd.DataFrame({'idx': [i],\n",
        "                    #                              'gt': ', '.join((str)(gt)),\n",
        "                    #                              'pr': pr, \n",
        "                    #                              'etc': data['test'][i]['etc']}),\n",
        "                    #                 ignore_index=True)\n",
        "                    df = df.append(pd.DataFrame({'idx': [i],\n",
        "                                                 'gt': ', '.join((str)(gt)),\n",
        "                                                 'pr': pr}),\n",
        "                                    ignore_index=True)\n",
        "            df.to_csv('GT_vs_PR.csv', index=False)\n",
        "            \n",
        "\n",
        "    def configure_optimizers(self):\n",
        "        grouped_params = [{'params': list(filter(lambda p: p.requires_grad, self.parameters())), 'lr': self.learning_rate}]\n",
        "        optimizer = torch.optim.AdamW(grouped_params, lr=self.learning_rate)\n",
        "\n",
        "        return {'optimizer': optimizer}"
      ]
    },
    {
      "cell_type": "code",
      "execution_count": null,
      "metadata": {
        "id": "I7CfwPx0QCVK"
      },
      "outputs": [],
      "source": [
        "from sklearn.model_selection import train_test_split\n",
        "import datasets\n",
        "import tensorflow as tf\n",
        "from datasets import Dataset\n",
        "\n",
        "def convertDFtoDS(df):\n",
        "    return tf.data.Dataset.from_tensor_slices(dict(df))\n",
        "\n",
        "backbone_card = 'bert-base-multilingual-cased'\n",
        "tokenizer = AutoTokenizer.from_pretrained(backbone_card)\n"
      ]
    },
    {
      "cell_type": "code",
      "execution_count": null,
      "metadata": {
        "id": "_xQvF8P1pVG0"
      },
      "outputs": [],
      "source": [
        "# # coded by cat\n",
        "# cfdxf,er?\"\n",
        "# ]\\w\n",
        "# ws\""
      ]
    },
    {
      "cell_type": "code",
      "execution_count": null,
      "metadata": {
        "id": "tEWsCa7hB-qh"
      },
      "outputs": [],
      "source": [
        "import gc\n",
        "\n",
        "def execTrain(dataset, target, trainset):\n",
        "    #init cuda\n",
        "    gc.collect()\n",
        "    torch.cuda.empty_cache()\n",
        "\n",
        "    #divide train/valid/test set\n",
        "    train, test = train_test_split(dataset, test_size=0.2, random_state=1)\n",
        "    train, valid = train_test_split(train, test_size=0.2, random_state=1)\n",
        "    d = datasets.DatasetDict({'train': Dataset.from_dict(train), 'valid': Dataset.from_dict(valid), 'test': Dataset.from_dict(test)})\n",
        "\n",
        "    # labels init\n",
        "    labels = sorted(set.union(*map(set, dataset[target])))\n",
        "    data_module = StatutesDataModule(target, trainset, labels, tokenizer, d, batch_size=16, max_input_len=512)\n",
        "\n",
        "    # model\n",
        "    backbone = BertForSequenceClassification.from_pretrained(backbone_card, num_labels=len(labels))\n",
        "    model = StatutesClassifier(labels, backbone, learning_rate=1e-5, mode='multi-class', approx_val=TARGET_APPROX)\n",
        "\n",
        "    # trainer\n",
        "    n_gpus = 1 #torch.cuda.device_count()\n",
        "    trainer = pl.Trainer(max_epochs=20, gpus=n_gpus, fast_dev_run=not True)\n",
        "\n",
        "    # train and eval\n",
        "    trainer.fit(model, data_module)\n",
        "    trainer.test(model, data_module)\n",
        "\n",
        "    return model\n",
        "\n",
        "def execEval(dataset, target, trainset, modelpath):\n",
        "    #init cuda\n",
        "    gc.collect()\n",
        "    torch.cuda.empty_cache()\n",
        "\n",
        "    #divide train/valid/test set\n",
        "    train, test = train_test_split(dataset, test_size=0.2, random_state=1)\n",
        "    train, valid = train_test_split(train, test_size=0.2, random_state=1)\n",
        "    d = datasets.DatasetDict({'train': Dataset.from_dict(train), 'valid': Dataset.from_dict(valid), 'test': Dataset.from_dict(test)})\n",
        "\n",
        "    # labels init\n",
        "    labels = sorted(set.union(*map(set, dataset[target])))\n",
        "    data_module = StatutesDataModule(target, trainset, labels, tokenizer, d, batch_size=16, max_input_len=512)\n",
        "\n",
        "    # model\n",
        "    backbone = BertForSequenceClassification.from_pretrained(backbone_card, num_labels=len(labels))\n",
        "    model = StatutesClassifier(labels, backbone, learning_rate=1e-5, mode='multi-class')\n",
        "    model = torch.load(modelpath)\n",
        "\n",
        "    # trainer\n",
        "    n_gpus = 1 #torch.cuda.device_count()\n",
        "    trainer = pl.Trainer(max_epochs=20, gpus=n_gpus, fast_dev_run=not True)\n",
        "\n",
        "    trainer.test(model, data_module)"
      ]
    },
    {
      "cell_type": "markdown",
      "source": [
        "## RUN"
      ],
      "metadata": {
        "id": "C8g2Pfg2ZhwS"
      }
    },
    {
      "cell_type": "code",
      "source": [
        "# check variables\n",
        "print(TARGET)\n",
        "print(TARGET_SET)\n",
        "print(TARGET_START)\n",
        "print(TARGET_END)\n",
        "print(TARGET_APPROX)\n",
        "print(TARGET_OPT)\n",
        "print(TRAIN_COLUMN)"
      ],
      "metadata": {
        "colab": {
          "base_uri": "https://localhost:8080/"
        },
        "id": "qWTzN2sGaB5W",
        "outputId": "704af0b0-046d-4e1d-c105-ee158d6dfc09"
      },
      "execution_count": null,
      "outputs": [
        {
          "output_type": "stream",
          "name": "stdout",
          "text": [
            "prison\n",
            "avail\n",
            "1\n",
            "36\n",
            "2\n",
            "class\n",
            "fy\n"
          ]
        }
      ]
    },
    {
      "cell_type": "code",
      "execution_count": null,
      "metadata": {
        "colab": {
          "base_uri": "https://localhost:8080/",
          "height": 763,
          "referenced_widgets": [
            "9bbe3ecf8dc642c68786479f42330ff8",
            "13a92905f47847c7af3e3c04d44770e0",
            "5deed42e23a849babba93cb72a5568c1",
            "643046bc0c37469caadbfab52d84ac2a",
            "517e9dafd77a4c0a89dd0214b4876989",
            "5035b2e367f24e87b580224752461955",
            "71212fa205104cd5adab2e96b8403a1c",
            "8137d1532e6b43988b0b028008be1482",
            "fd36678e89d849579bdfd466f2584616",
            "2bf0022c8e634a658986be59b618e915",
            "bedb4c8bc5ac42eabddb49e2db1b50ad",
            "ff32065df3994cd0a7457960ac19bbc8",
            "a6bc3326e30b42d2a195aa51cbd35900",
            "59ec3cec93f440c7a0f337396b742b0c",
            "37806833b57240e8acaa64fbd2485307",
            "16d3034860a642e79ebf28aa87c0ce68",
            "b113c517b5bb43d1a02c2a2d01458e13",
            "04d43c21a41d48899bc5a48da265297b",
            "3ea0c5e8d7e14e528cef608493adb6a3",
            "c03cd54c2dc6439395df854e0bc53ac0",
            "3336181e180842f38435f10be65ee66c",
            "15000e27ac624188a8f18f7669eb5535",
            "4a3db405f1d6472aa21da3d04f848aca",
            "430e4112263b4c2ba07656aaa8b972a1",
            "c7053c76dc1d45ef94d51318da9b037e",
            "fc3cf0ff457740ce8005d8153cffd927",
            "235abbf728134ae9b626fd738291dd8a",
            "7cac9a808f2b40aebc5b72679d7acf5b",
            "ee15d1c66e6e433faaebb21746016882",
            "4bedc07ccc9243de8065bbde3dd38cf1",
            "211621dc726945f48f74a5c5373976f9",
            "86da2dfc30794faca7576c93650e16cf",
            "20f70d0d1f9b45e1af422dbff362bdaa"
          ]
        },
        "id": "F31UmLe1V4Vt",
        "outputId": "abcbefb1-670c-474e-d718-a050791ffe74"
      },
      "outputs": [
        {
          "output_type": "stream",
          "name": "stderr",
          "text": [
            "Some weights of the model checkpoint at bert-base-multilingual-cased were not used when initializing BertForSequenceClassification: ['cls.predictions.transform.dense.bias', 'cls.predictions.decoder.weight', 'cls.seq_relationship.bias', 'cls.predictions.transform.LayerNorm.bias', 'cls.seq_relationship.weight', 'cls.predictions.bias', 'cls.predictions.transform.dense.weight', 'cls.predictions.transform.LayerNorm.weight']\n",
            "- This IS expected if you are initializing BertForSequenceClassification from the checkpoint of a model trained on another task or with another architecture (e.g. initializing a BertForSequenceClassification model from a BertForPreTraining model).\n",
            "- This IS NOT expected if you are initializing BertForSequenceClassification from the checkpoint of a model that you expect to be exactly identical (initializing a BertForSequenceClassification model from a BertForSequenceClassification model).\n",
            "Some weights of BertForSequenceClassification were not initialized from the model checkpoint at bert-base-multilingual-cased and are newly initialized: ['classifier.weight', 'classifier.bias']\n",
            "You should probably TRAIN this model on a down-stream task to be able to use it for predictions and inference.\n",
            "/usr/local/lib/python3.8/dist-packages/pytorch_lightning/trainer/connectors/accelerator_connector.py:447: LightningDeprecationWarning: Setting `Trainer(gpus=1)` is deprecated in v1.7 and will be removed in v2.0. Please use `Trainer(accelerator='gpu', devices=1)` instead.\n",
            "  rank_zero_deprecation(\n",
            "INFO:pytorch_lightning.utilities.rank_zero:GPU available: True (cuda), used: True\n",
            "INFO:pytorch_lightning.utilities.rank_zero:TPU available: False, using: 0 TPU cores\n",
            "INFO:pytorch_lightning.utilities.rank_zero:IPU available: False, using: 0 IPUs\n",
            "INFO:pytorch_lightning.utilities.rank_zero:HPU available: False, using: 0 HPUs\n",
            "INFO:pytorch_lightning.accelerators.cuda:LOCAL_RANK: 0 - CUDA_VISIBLE_DEVICES: [0]\n",
            "INFO:pytorch_lightning.callbacks.model_summary:\n",
            "  | Name      | Type                          | Params\n",
            "------------------------------------------------------------\n",
            "0 | backbone  | BertForSequenceClassification | 177 M \n",
            "1 | criterion | CrossEntropyLoss              | 0     \n",
            "------------------------------------------------------------\n",
            "177 M     Trainable params\n",
            "0         Non-trainable params\n",
            "177 M     Total params\n",
            "711.481   Total estimated model params size (MB)\n"
          ]
        },
        {
          "output_type": "display_data",
          "data": {
            "text/plain": [
              "Sanity Checking: 0it [00:00, ?it/s]"
            ],
            "application/vnd.jupyter.widget-view+json": {
              "version_major": 2,
              "version_minor": 0,
              "model_id": "9bbe3ecf8dc642c68786479f42330ff8"
            }
          },
          "metadata": {}
        },
        {
          "output_type": "stream",
          "name": "stdout",
          "text": [
            "[{'loss': 3.106743574142456, 'gts': [[4], [36], [6], [24], [5], [14], [24], [12], [18], [24], [6], [24], [36], [16], [18], [16], [14], [14], [18], [18], [8], [4], [5], [12], [14], [30], [12], [24], [18], [4], [10], [18]], 'prs': [4, 28, 28, 28, 28, 28, 28, 4, 28, 28, 28, 7, 28, 28, 28, 28, 28, 28, 28, 28, 7, 4, 28, 28, 28, 28, 28, 4, 28, 4, 28, 28]}, {'loss': 3.1154990196228027, 'gts': [[18], [16], [10], [26], [14], [8], [14], [20], [10], [14], [6], [6], [24], [18], [24], [12], [8], [16], [4], [14], [12], [14], [18], [14], [10], [6], [16], [12], [22], [15], [12], [6]], 'prs': [28, 28, 28, 28, 28, 28, 28, 28, 28, 28, 4, 28, 28, 28, 28, 28, 28, 28, 28, 28, 28, 28, 28, 28, 28, 28, 28, 28, 28, 28, 28, 28]}]\n",
            "==================================================\n",
            "avg_loss: 3.1111212968826294\n",
            "ACC: 0.1875\n",
            "[[4], [36], [6], [24], [5], [14], [24], [12], [18], [24], [6], [24], [36], [16], [18], [16], [14], [14], [18], [18], [8], [4], [5], [12], [14], [30], [12], [24], [18], [4], [10], [18], [18], [16], [10], [26], [14], [8], [14], [20], [10], [14], [6], [6], [24], [18], [24], [12], [8], [16], [4], [14], [12], [14], [18], [14], [10], [6], [16], [12], [22], [15], [12], [6]]\n",
            "[4, 28, 28, 28, 28, 28, 28, 4, 28, 28, 28, 7, 28, 28, 28, 28, 28, 28, 28, 28, 7, 4, 28, 28, 28, 28, 28, 4, 28, 4, 28, 28, 28, 28, 28, 28, 28, 28, 28, 28, 28, 28, 4, 28, 28, 28, 28, 28, 28, 28, 28, 28, 28, 28, 28, 28, 28, 28, 28, 28, 28, 28, 28, 28]\n",
            "target_ids: [54, 14]\n",
            "GT: [18]\t\t\tPR: 28\n",
            "GT: [18]\t\t\tPR: 28\n"
          ]
        },
        {
          "output_type": "display_data",
          "data": {
            "text/plain": [
              "Training: 0it [00:00, ?it/s]"
            ],
            "application/vnd.jupyter.widget-view+json": {
              "version_major": 2,
              "version_minor": 0,
              "model_id": "ff32065df3994cd0a7457960ac19bbc8"
            }
          },
          "metadata": {}
        },
        {
          "output_type": "display_data",
          "data": {
            "text/plain": [
              "Validation: 0it [00:00, ?it/s]"
            ],
            "application/vnd.jupyter.widget-view+json": {
              "version_major": 2,
              "version_minor": 0,
              "model_id": "4a3db405f1d6472aa21da3d04f848aca"
            }
          },
          "metadata": {}
        },
        {
          "output_type": "stream",
          "name": "stdout",
          "text": [
            "[{'loss': 2.7037243843078613, 'gts': [[4], [36], [6], [24], [5], [14], [24], [12], [18], [24], [6], [24], [36], [16], [18], [16], [14], [14], [18], [18], [8], [4], [5], [12], [14], [30], [12], [24], [18], [4], [10], [18]], 'prs': [24, 24, 12, 24, 24, 24, 24, 24, 24, 24, 24, 24, 24, 24, 24, 24, 24, 24, 24, 24, 24, 24, 24, 24, 24, 24, 24, 24, 24, 24, 24, 24]}, {'loss': 2.7554807662963867, 'gts': [[18], [16], [10], [26], [14], [8], [14], [20], [10], [14], [6], [6], [24], [18], [24], [12], [8], [16], [4], [14], [12], [14], [18], [14], [10], [6], [16], [12], [22], [15], [12], [6]], 'prs': [24, 24, 24, 24, 24, 24, 24, 24, 24, 24, 24, 24, 24, 24, 24, 24, 24, 24, 24, 24, 24, 24, 24, 24, 24, 24, 24, 24, 24, 24, 24, 24]}, {'loss': 2.486567497253418, 'gts': [[18], [24], [6], [4], [14], [18], [12], [8], [12], [18], [10], [12], [10], [24], [18], [18], [10], [8], [6], [8], [6], [16], [12], [24], [18], [4], [18], [24], [18], [8], [14], [12]], 'prs': [24, 24, 24, 24, 24, 24, 24, 24, 24, 24, 24, 24, 24, 24, 24, 24, 24, 24, 24, 24, 24, 24, 24, 24, 24, 24, 24, 24, 24, 24, 24, 24]}, {'loss': 2.591348171234131, 'gts': [[14], [18], [16], [12], [18], [24], [1], [8], [6], [14], [6], [6], [12], [6], [10], [18], [10], [18], [12], [8], [30], [15], [12], [14], [18], [6], [6], [14], [8], [6], [24], [12]], 'prs': [24, 24, 24, 24, 24, 24, 24, 24, 24, 24, 24, 24, 24, 24, 24, 24, 24, 24, 24, 24, 24, 24, 24, 24, 24, 24, 24, 24, 24, 24, 24, 24]}, {'loss': 2.6515164375305176, 'gts': [[18], [36], [18], [16], [6], [12], [8], [8], [16], [24], [3], [30], [8], [18], [30], [12], [18], [30], [24], [14], [36], [24], [12], [6], [8], [8], [6], [14], [18], [14], [18], [14]], 'prs': [24, 24, 24, 24, 24, 24, 24, 24, 24, 24, 24, 24, 24, 24, 24, 24, 24, 24, 24, 24, 24, 24, 24, 24, 24, 24, 24, 24, 24, 24, 24, 24]}, {'loss': 2.533999443054199, 'gts': [[16], [24], [14], [24], [14], [8], [14], [6], [10], [10], [24], [10], [14], [12], [30], [16], [14], [8], [12], [12], [8], [14], [18], [8], [15], [18], [12], [16], [12], [24], [8], [24]], 'prs': [24, 24, 24, 24, 24, 24, 24, 24, 24, 24, 24, 24, 24, 24, 24, 24, 24, 24, 24, 24, 24, 24, 24, 24, 24, 24, 24, 24, 24, 24, 24, 24]}, {'loss': 2.613478660583496, 'gts': [[10], [12], [30], [12], [8], [14], [24], [6], [8], [6], [24], [18], [10], [15], [24], [30]], 'prs': [24, 24, 24, 24, 24, 24, 24, 24, 24, 24, 24, 24, 24, 24, 24, 24]}]\n",
            "==================================================\n",
            "avg_loss: 2.6194450514657155\n",
            "ACC: 0.18269230769230768\n",
            "[[4], [36], [6], [24], [5], [14], [24], [12], [18], [24], [6], [24], [36], [16], [18], [16], [14], [14], [18], [18], [8], [4], [5], [12], [14], [30], [12], [24], [18], [4], [10], [18], [18], [16], [10], [26], [14], [8], [14], [20], [10], [14], [6], [6], [24], [18], [24], [12], [8], [16], [4], [14], [12], [14], [18], [14], [10], [6], [16], [12], [22], [15], [12], [6], [18], [24], [6], [4], [14], [18], [12], [8], [12], [18], [10], [12], [10], [24], [18], [18], [10], [8], [6], [8], [6], [16], [12], [24], [18], [4], [18], [24], [18], [8], [14], [12], [14], [18], [16], [12], [18], [24], [1], [8], [6], [14], [6], [6], [12], [6], [10], [18], [10], [18], [12], [8], [30], [15], [12], [14], [18], [6], [6], [14], [8], [6], [24], [12], [18], [36], [18], [16], [6], [12], [8], [8], [16], [24], [3], [30], [8], [18], [30], [12], [18], [30], [24], [14], [36], [24], [12], [6], [8], [8], [6], [14], [18], [14], [18], [14], [16], [24], [14], [24], [14], [8], [14], [6], [10], [10], [24], [10], [14], [12], [30], [16], [14], [8], [12], [12], [8], [14], [18], [8], [15], [18], [12], [16], [12], [24], [8], [24], [10], [12], [30], [12], [8], [14], [24], [6], [8], [6], [24], [18], [10], [15], [24], [30]]\n",
            "[24, 24, 12, 24, 24, 24, 24, 24, 24, 24, 24, 24, 24, 24, 24, 24, 24, 24, 24, 24, 24, 24, 24, 24, 24, 24, 24, 24, 24, 24, 24, 24, 24, 24, 24, 24, 24, 24, 24, 24, 24, 24, 24, 24, 24, 24, 24, 24, 24, 24, 24, 24, 24, 24, 24, 24, 24, 24, 24, 24, 24, 24, 24, 24, 24, 24, 24, 24, 24, 24, 24, 24, 24, 24, 24, 24, 24, 24, 24, 24, 24, 24, 24, 24, 24, 24, 24, 24, 24, 24, 24, 24, 24, 24, 24, 24, 24, 24, 24, 24, 24, 24, 24, 24, 24, 24, 24, 24, 24, 24, 24, 24, 24, 24, 24, 24, 24, 24, 24, 24, 24, 24, 24, 24, 24, 24, 24, 24, 24, 24, 24, 24, 24, 24, 24, 24, 24, 24, 24, 24, 24, 24, 24, 24, 24, 24, 24, 24, 24, 24, 24, 24, 24, 24, 24, 24, 24, 24, 24, 24, 24, 24, 24, 24, 24, 24, 24, 24, 24, 24, 24, 24, 24, 24, 24, 24, 24, 24, 24, 24, 24, 24, 24, 24, 24, 24, 24, 24, 24, 24, 24, 24, 24, 24, 24, 24, 24, 24, 24, 24, 24, 24, 24, 24, 24, 24, 24, 24]\n",
            "target_ids: [108, 29]\n",
            "GT: [12]\t\t\tPR: 24\n",
            "GT: [4]\t\t\tPR: 24\n"
          ]
        }
      ],
      "source": [
        "execEval(dataset[TARGET_SET], TARGET, TRAIN_COLUMN, f'{MODEL_DIR}/{TARGET}_{TARGET_SET}_{TRAIN_COLUMNS}_{TARGET_START}_{TARGET_END}_model.pt')"
      ]
    }
  ],
  "metadata": {
    "accelerator": "GPU",
    "colab": {
      "collapsed_sections": [
        "fbkSavfrJtex",
        "E168RPwMhuag",
        "906NSvyhRaZS",
        "8y7JCIZCDMEg",
        "uKrxE_MdSJIK"
      ],
      "provenance": [],
      "include_colab_link": true
    },
    "gpuClass": "standard",
    "kernelspec": {
      "display_name": "Python 3 (ipykernel)",
      "language": "python",
      "name": "python3"
    },
    "language_info": {
      "codemirror_mode": {
        "name": "ipython",
        "version": 3
      },
      "file_extension": ".py",
      "mimetype": "text/x-python",
      "name": "python",
      "nbconvert_exporter": "python",
      "pygments_lexer": "ipython3",
      "version": "3.9.7"
    },
    "widgets": {
      "application/vnd.jupyter.widget-state+json": {
        "139636ccc1b541f5beec9b220fa7b100": {
          "model_module": "@jupyter-widgets/controls",
          "model_name": "HBoxModel",
          "model_module_version": "1.5.0",
          "state": {
            "_dom_classes": [],
            "_model_module": "@jupyter-widgets/controls",
            "_model_module_version": "1.5.0",
            "_model_name": "HBoxModel",
            "_view_count": null,
            "_view_module": "@jupyter-widgets/controls",
            "_view_module_version": "1.5.0",
            "_view_name": "HBoxView",
            "box_style": "",
            "children": [
              "IPY_MODEL_d1d0f9d05d444f3bade36b0cb60f2fc9",
              "IPY_MODEL_86c817964f6e45b28b5b72960cc4808b",
              "IPY_MODEL_05698802c2614579b933d89839c79b06"
            ],
            "layout": "IPY_MODEL_9c35f53074fb4d49b8d4bc2fd48ef307"
          }
        },
        "d1d0f9d05d444f3bade36b0cb60f2fc9": {
          "model_module": "@jupyter-widgets/controls",
          "model_name": "HTMLModel",
          "model_module_version": "1.5.0",
          "state": {
            "_dom_classes": [],
            "_model_module": "@jupyter-widgets/controls",
            "_model_module_version": "1.5.0",
            "_model_name": "HTMLModel",
            "_view_count": null,
            "_view_module": "@jupyter-widgets/controls",
            "_view_module_version": "1.5.0",
            "_view_name": "HTMLView",
            "description": "",
            "description_tooltip": null,
            "layout": "IPY_MODEL_187817d19f9c440cb982024d6070a316",
            "placeholder": "​",
            "style": "IPY_MODEL_5bb5f5b73c304844a4f34c60c9499fc6",
            "value": "100%"
          }
        },
        "86c817964f6e45b28b5b72960cc4808b": {
          "model_module": "@jupyter-widgets/controls",
          "model_name": "FloatProgressModel",
          "model_module_version": "1.5.0",
          "state": {
            "_dom_classes": [],
            "_model_module": "@jupyter-widgets/controls",
            "_model_module_version": "1.5.0",
            "_model_name": "FloatProgressModel",
            "_view_count": null,
            "_view_module": "@jupyter-widgets/controls",
            "_view_module_version": "1.5.0",
            "_view_name": "ProgressView",
            "bar_style": "success",
            "description": "",
            "description_tooltip": null,
            "layout": "IPY_MODEL_23e76a5e29134c00b612ed5eedcaa87c",
            "max": 1,
            "min": 0,
            "orientation": "horizontal",
            "style": "IPY_MODEL_7bb8278da91242b289db999131e67079",
            "value": 1
          }
        },
        "05698802c2614579b933d89839c79b06": {
          "model_module": "@jupyter-widgets/controls",
          "model_name": "HTMLModel",
          "model_module_version": "1.5.0",
          "state": {
            "_dom_classes": [],
            "_model_module": "@jupyter-widgets/controls",
            "_model_module_version": "1.5.0",
            "_model_name": "HTMLModel",
            "_view_count": null,
            "_view_module": "@jupyter-widgets/controls",
            "_view_module_version": "1.5.0",
            "_view_name": "HTMLView",
            "description": "",
            "description_tooltip": null,
            "layout": "IPY_MODEL_4c778850bd164b1ca26aefb9118dd305",
            "placeholder": "​",
            "style": "IPY_MODEL_0e165f566afa4f639eca076ccbd81696",
            "value": " 1/1 [00:00&lt;00:00,  6.82it/s]"
          }
        },
        "9c35f53074fb4d49b8d4bc2fd48ef307": {
          "model_module": "@jupyter-widgets/base",
          "model_name": "LayoutModel",
          "model_module_version": "1.2.0",
          "state": {
            "_model_module": "@jupyter-widgets/base",
            "_model_module_version": "1.2.0",
            "_model_name": "LayoutModel",
            "_view_count": null,
            "_view_module": "@jupyter-widgets/base",
            "_view_module_version": "1.2.0",
            "_view_name": "LayoutView",
            "align_content": null,
            "align_items": null,
            "align_self": null,
            "border": null,
            "bottom": null,
            "display": null,
            "flex": null,
            "flex_flow": null,
            "grid_area": null,
            "grid_auto_columns": null,
            "grid_auto_flow": null,
            "grid_auto_rows": null,
            "grid_column": null,
            "grid_gap": null,
            "grid_row": null,
            "grid_template_areas": null,
            "grid_template_columns": null,
            "grid_template_rows": null,
            "height": null,
            "justify_content": null,
            "justify_items": null,
            "left": null,
            "margin": null,
            "max_height": null,
            "max_width": null,
            "min_height": null,
            "min_width": null,
            "object_fit": null,
            "object_position": null,
            "order": null,
            "overflow": null,
            "overflow_x": null,
            "overflow_y": null,
            "padding": null,
            "right": null,
            "top": null,
            "visibility": null,
            "width": null
          }
        },
        "187817d19f9c440cb982024d6070a316": {
          "model_module": "@jupyter-widgets/base",
          "model_name": "LayoutModel",
          "model_module_version": "1.2.0",
          "state": {
            "_model_module": "@jupyter-widgets/base",
            "_model_module_version": "1.2.0",
            "_model_name": "LayoutModel",
            "_view_count": null,
            "_view_module": "@jupyter-widgets/base",
            "_view_module_version": "1.2.0",
            "_view_name": "LayoutView",
            "align_content": null,
            "align_items": null,
            "align_self": null,
            "border": null,
            "bottom": null,
            "display": null,
            "flex": null,
            "flex_flow": null,
            "grid_area": null,
            "grid_auto_columns": null,
            "grid_auto_flow": null,
            "grid_auto_rows": null,
            "grid_column": null,
            "grid_gap": null,
            "grid_row": null,
            "grid_template_areas": null,
            "grid_template_columns": null,
            "grid_template_rows": null,
            "height": null,
            "justify_content": null,
            "justify_items": null,
            "left": null,
            "margin": null,
            "max_height": null,
            "max_width": null,
            "min_height": null,
            "min_width": null,
            "object_fit": null,
            "object_position": null,
            "order": null,
            "overflow": null,
            "overflow_x": null,
            "overflow_y": null,
            "padding": null,
            "right": null,
            "top": null,
            "visibility": null,
            "width": null
          }
        },
        "5bb5f5b73c304844a4f34c60c9499fc6": {
          "model_module": "@jupyter-widgets/controls",
          "model_name": "DescriptionStyleModel",
          "model_module_version": "1.5.0",
          "state": {
            "_model_module": "@jupyter-widgets/controls",
            "_model_module_version": "1.5.0",
            "_model_name": "DescriptionStyleModel",
            "_view_count": null,
            "_view_module": "@jupyter-widgets/base",
            "_view_module_version": "1.2.0",
            "_view_name": "StyleView",
            "description_width": ""
          }
        },
        "23e76a5e29134c00b612ed5eedcaa87c": {
          "model_module": "@jupyter-widgets/base",
          "model_name": "LayoutModel",
          "model_module_version": "1.2.0",
          "state": {
            "_model_module": "@jupyter-widgets/base",
            "_model_module_version": "1.2.0",
            "_model_name": "LayoutModel",
            "_view_count": null,
            "_view_module": "@jupyter-widgets/base",
            "_view_module_version": "1.2.0",
            "_view_name": "LayoutView",
            "align_content": null,
            "align_items": null,
            "align_self": null,
            "border": null,
            "bottom": null,
            "display": null,
            "flex": null,
            "flex_flow": null,
            "grid_area": null,
            "grid_auto_columns": null,
            "grid_auto_flow": null,
            "grid_auto_rows": null,
            "grid_column": null,
            "grid_gap": null,
            "grid_row": null,
            "grid_template_areas": null,
            "grid_template_columns": null,
            "grid_template_rows": null,
            "height": null,
            "justify_content": null,
            "justify_items": null,
            "left": null,
            "margin": null,
            "max_height": null,
            "max_width": null,
            "min_height": null,
            "min_width": null,
            "object_fit": null,
            "object_position": null,
            "order": null,
            "overflow": null,
            "overflow_x": null,
            "overflow_y": null,
            "padding": null,
            "right": null,
            "top": null,
            "visibility": null,
            "width": null
          }
        },
        "7bb8278da91242b289db999131e67079": {
          "model_module": "@jupyter-widgets/controls",
          "model_name": "ProgressStyleModel",
          "model_module_version": "1.5.0",
          "state": {
            "_model_module": "@jupyter-widgets/controls",
            "_model_module_version": "1.5.0",
            "_model_name": "ProgressStyleModel",
            "_view_count": null,
            "_view_module": "@jupyter-widgets/base",
            "_view_module_version": "1.2.0",
            "_view_name": "StyleView",
            "bar_color": null,
            "description_width": ""
          }
        },
        "4c778850bd164b1ca26aefb9118dd305": {
          "model_module": "@jupyter-widgets/base",
          "model_name": "LayoutModel",
          "model_module_version": "1.2.0",
          "state": {
            "_model_module": "@jupyter-widgets/base",
            "_model_module_version": "1.2.0",
            "_model_name": "LayoutModel",
            "_view_count": null,
            "_view_module": "@jupyter-widgets/base",
            "_view_module_version": "1.2.0",
            "_view_name": "LayoutView",
            "align_content": null,
            "align_items": null,
            "align_self": null,
            "border": null,
            "bottom": null,
            "display": null,
            "flex": null,
            "flex_flow": null,
            "grid_area": null,
            "grid_auto_columns": null,
            "grid_auto_flow": null,
            "grid_auto_rows": null,
            "grid_column": null,
            "grid_gap": null,
            "grid_row": null,
            "grid_template_areas": null,
            "grid_template_columns": null,
            "grid_template_rows": null,
            "height": null,
            "justify_content": null,
            "justify_items": null,
            "left": null,
            "margin": null,
            "max_height": null,
            "max_width": null,
            "min_height": null,
            "min_width": null,
            "object_fit": null,
            "object_position": null,
            "order": null,
            "overflow": null,
            "overflow_x": null,
            "overflow_y": null,
            "padding": null,
            "right": null,
            "top": null,
            "visibility": null,
            "width": null
          }
        },
        "0e165f566afa4f639eca076ccbd81696": {
          "model_module": "@jupyter-widgets/controls",
          "model_name": "DescriptionStyleModel",
          "model_module_version": "1.5.0",
          "state": {
            "_model_module": "@jupyter-widgets/controls",
            "_model_module_version": "1.5.0",
            "_model_name": "DescriptionStyleModel",
            "_view_count": null,
            "_view_module": "@jupyter-widgets/base",
            "_view_module_version": "1.2.0",
            "_view_name": "StyleView",
            "description_width": ""
          }
        },
        "9bbe3ecf8dc642c68786479f42330ff8": {
          "model_module": "@jupyter-widgets/controls",
          "model_name": "HBoxModel",
          "model_module_version": "1.5.0",
          "state": {
            "_dom_classes": [],
            "_model_module": "@jupyter-widgets/controls",
            "_model_module_version": "1.5.0",
            "_model_name": "HBoxModel",
            "_view_count": null,
            "_view_module": "@jupyter-widgets/controls",
            "_view_module_version": "1.5.0",
            "_view_name": "HBoxView",
            "box_style": "",
            "children": [
              "IPY_MODEL_13a92905f47847c7af3e3c04d44770e0",
              "IPY_MODEL_5deed42e23a849babba93cb72a5568c1",
              "IPY_MODEL_643046bc0c37469caadbfab52d84ac2a"
            ],
            "layout": "IPY_MODEL_517e9dafd77a4c0a89dd0214b4876989"
          }
        },
        "13a92905f47847c7af3e3c04d44770e0": {
          "model_module": "@jupyter-widgets/controls",
          "model_name": "HTMLModel",
          "model_module_version": "1.5.0",
          "state": {
            "_dom_classes": [],
            "_model_module": "@jupyter-widgets/controls",
            "_model_module_version": "1.5.0",
            "_model_name": "HTMLModel",
            "_view_count": null,
            "_view_module": "@jupyter-widgets/controls",
            "_view_module_version": "1.5.0",
            "_view_name": "HTMLView",
            "description": "",
            "description_tooltip": null,
            "layout": "IPY_MODEL_5035b2e367f24e87b580224752461955",
            "placeholder": "​",
            "style": "IPY_MODEL_71212fa205104cd5adab2e96b8403a1c",
            "value": "Sanity Checking DataLoader 0: 100%"
          }
        },
        "5deed42e23a849babba93cb72a5568c1": {
          "model_module": "@jupyter-widgets/controls",
          "model_name": "FloatProgressModel",
          "model_module_version": "1.5.0",
          "state": {
            "_dom_classes": [],
            "_model_module": "@jupyter-widgets/controls",
            "_model_module_version": "1.5.0",
            "_model_name": "FloatProgressModel",
            "_view_count": null,
            "_view_module": "@jupyter-widgets/controls",
            "_view_module_version": "1.5.0",
            "_view_name": "ProgressView",
            "bar_style": "",
            "description": "",
            "description_tooltip": null,
            "layout": "IPY_MODEL_8137d1532e6b43988b0b028008be1482",
            "max": 2,
            "min": 0,
            "orientation": "horizontal",
            "style": "IPY_MODEL_fd36678e89d849579bdfd466f2584616",
            "value": 2
          }
        },
        "643046bc0c37469caadbfab52d84ac2a": {
          "model_module": "@jupyter-widgets/controls",
          "model_name": "HTMLModel",
          "model_module_version": "1.5.0",
          "state": {
            "_dom_classes": [],
            "_model_module": "@jupyter-widgets/controls",
            "_model_module_version": "1.5.0",
            "_model_name": "HTMLModel",
            "_view_count": null,
            "_view_module": "@jupyter-widgets/controls",
            "_view_module_version": "1.5.0",
            "_view_name": "HTMLView",
            "description": "",
            "description_tooltip": null,
            "layout": "IPY_MODEL_2bf0022c8e634a658986be59b618e915",
            "placeholder": "​",
            "style": "IPY_MODEL_bedb4c8bc5ac42eabddb49e2db1b50ad",
            "value": " 2/2 [00:04&lt;00:00,  2.01s/it]"
          }
        },
        "517e9dafd77a4c0a89dd0214b4876989": {
          "model_module": "@jupyter-widgets/base",
          "model_name": "LayoutModel",
          "model_module_version": "1.2.0",
          "state": {
            "_model_module": "@jupyter-widgets/base",
            "_model_module_version": "1.2.0",
            "_model_name": "LayoutModel",
            "_view_count": null,
            "_view_module": "@jupyter-widgets/base",
            "_view_module_version": "1.2.0",
            "_view_name": "LayoutView",
            "align_content": null,
            "align_items": null,
            "align_self": null,
            "border": null,
            "bottom": null,
            "display": "inline-flex",
            "flex": null,
            "flex_flow": "row wrap",
            "grid_area": null,
            "grid_auto_columns": null,
            "grid_auto_flow": null,
            "grid_auto_rows": null,
            "grid_column": null,
            "grid_gap": null,
            "grid_row": null,
            "grid_template_areas": null,
            "grid_template_columns": null,
            "grid_template_rows": null,
            "height": null,
            "justify_content": null,
            "justify_items": null,
            "left": null,
            "margin": null,
            "max_height": null,
            "max_width": null,
            "min_height": null,
            "min_width": null,
            "object_fit": null,
            "object_position": null,
            "order": null,
            "overflow": null,
            "overflow_x": null,
            "overflow_y": null,
            "padding": null,
            "right": null,
            "top": null,
            "visibility": "hidden",
            "width": "100%"
          }
        },
        "5035b2e367f24e87b580224752461955": {
          "model_module": "@jupyter-widgets/base",
          "model_name": "LayoutModel",
          "model_module_version": "1.2.0",
          "state": {
            "_model_module": "@jupyter-widgets/base",
            "_model_module_version": "1.2.0",
            "_model_name": "LayoutModel",
            "_view_count": null,
            "_view_module": "@jupyter-widgets/base",
            "_view_module_version": "1.2.0",
            "_view_name": "LayoutView",
            "align_content": null,
            "align_items": null,
            "align_self": null,
            "border": null,
            "bottom": null,
            "display": null,
            "flex": null,
            "flex_flow": null,
            "grid_area": null,
            "grid_auto_columns": null,
            "grid_auto_flow": null,
            "grid_auto_rows": null,
            "grid_column": null,
            "grid_gap": null,
            "grid_row": null,
            "grid_template_areas": null,
            "grid_template_columns": null,
            "grid_template_rows": null,
            "height": null,
            "justify_content": null,
            "justify_items": null,
            "left": null,
            "margin": null,
            "max_height": null,
            "max_width": null,
            "min_height": null,
            "min_width": null,
            "object_fit": null,
            "object_position": null,
            "order": null,
            "overflow": null,
            "overflow_x": null,
            "overflow_y": null,
            "padding": null,
            "right": null,
            "top": null,
            "visibility": null,
            "width": null
          }
        },
        "71212fa205104cd5adab2e96b8403a1c": {
          "model_module": "@jupyter-widgets/controls",
          "model_name": "DescriptionStyleModel",
          "model_module_version": "1.5.0",
          "state": {
            "_model_module": "@jupyter-widgets/controls",
            "_model_module_version": "1.5.0",
            "_model_name": "DescriptionStyleModel",
            "_view_count": null,
            "_view_module": "@jupyter-widgets/base",
            "_view_module_version": "1.2.0",
            "_view_name": "StyleView",
            "description_width": ""
          }
        },
        "8137d1532e6b43988b0b028008be1482": {
          "model_module": "@jupyter-widgets/base",
          "model_name": "LayoutModel",
          "model_module_version": "1.2.0",
          "state": {
            "_model_module": "@jupyter-widgets/base",
            "_model_module_version": "1.2.0",
            "_model_name": "LayoutModel",
            "_view_count": null,
            "_view_module": "@jupyter-widgets/base",
            "_view_module_version": "1.2.0",
            "_view_name": "LayoutView",
            "align_content": null,
            "align_items": null,
            "align_self": null,
            "border": null,
            "bottom": null,
            "display": null,
            "flex": "2",
            "flex_flow": null,
            "grid_area": null,
            "grid_auto_columns": null,
            "grid_auto_flow": null,
            "grid_auto_rows": null,
            "grid_column": null,
            "grid_gap": null,
            "grid_row": null,
            "grid_template_areas": null,
            "grid_template_columns": null,
            "grid_template_rows": null,
            "height": null,
            "justify_content": null,
            "justify_items": null,
            "left": null,
            "margin": null,
            "max_height": null,
            "max_width": null,
            "min_height": null,
            "min_width": null,
            "object_fit": null,
            "object_position": null,
            "order": null,
            "overflow": null,
            "overflow_x": null,
            "overflow_y": null,
            "padding": null,
            "right": null,
            "top": null,
            "visibility": null,
            "width": null
          }
        },
        "fd36678e89d849579bdfd466f2584616": {
          "model_module": "@jupyter-widgets/controls",
          "model_name": "ProgressStyleModel",
          "model_module_version": "1.5.0",
          "state": {
            "_model_module": "@jupyter-widgets/controls",
            "_model_module_version": "1.5.0",
            "_model_name": "ProgressStyleModel",
            "_view_count": null,
            "_view_module": "@jupyter-widgets/base",
            "_view_module_version": "1.2.0",
            "_view_name": "StyleView",
            "bar_color": null,
            "description_width": ""
          }
        },
        "2bf0022c8e634a658986be59b618e915": {
          "model_module": "@jupyter-widgets/base",
          "model_name": "LayoutModel",
          "model_module_version": "1.2.0",
          "state": {
            "_model_module": "@jupyter-widgets/base",
            "_model_module_version": "1.2.0",
            "_model_name": "LayoutModel",
            "_view_count": null,
            "_view_module": "@jupyter-widgets/base",
            "_view_module_version": "1.2.0",
            "_view_name": "LayoutView",
            "align_content": null,
            "align_items": null,
            "align_self": null,
            "border": null,
            "bottom": null,
            "display": null,
            "flex": null,
            "flex_flow": null,
            "grid_area": null,
            "grid_auto_columns": null,
            "grid_auto_flow": null,
            "grid_auto_rows": null,
            "grid_column": null,
            "grid_gap": null,
            "grid_row": null,
            "grid_template_areas": null,
            "grid_template_columns": null,
            "grid_template_rows": null,
            "height": null,
            "justify_content": null,
            "justify_items": null,
            "left": null,
            "margin": null,
            "max_height": null,
            "max_width": null,
            "min_height": null,
            "min_width": null,
            "object_fit": null,
            "object_position": null,
            "order": null,
            "overflow": null,
            "overflow_x": null,
            "overflow_y": null,
            "padding": null,
            "right": null,
            "top": null,
            "visibility": null,
            "width": null
          }
        },
        "bedb4c8bc5ac42eabddb49e2db1b50ad": {
          "model_module": "@jupyter-widgets/controls",
          "model_name": "DescriptionStyleModel",
          "model_module_version": "1.5.0",
          "state": {
            "_model_module": "@jupyter-widgets/controls",
            "_model_module_version": "1.5.0",
            "_model_name": "DescriptionStyleModel",
            "_view_count": null,
            "_view_module": "@jupyter-widgets/base",
            "_view_module_version": "1.2.0",
            "_view_name": "StyleView",
            "description_width": ""
          }
        },
        "ff32065df3994cd0a7457960ac19bbc8": {
          "model_module": "@jupyter-widgets/controls",
          "model_name": "HBoxModel",
          "model_module_version": "1.5.0",
          "state": {
            "_dom_classes": [],
            "_model_module": "@jupyter-widgets/controls",
            "_model_module_version": "1.5.0",
            "_model_name": "HBoxModel",
            "_view_count": null,
            "_view_module": "@jupyter-widgets/controls",
            "_view_module_version": "1.5.0",
            "_view_name": "HBoxView",
            "box_style": "",
            "children": [
              "IPY_MODEL_a6bc3326e30b42d2a195aa51cbd35900",
              "IPY_MODEL_59ec3cec93f440c7a0f337396b742b0c",
              "IPY_MODEL_37806833b57240e8acaa64fbd2485307"
            ],
            "layout": "IPY_MODEL_16d3034860a642e79ebf28aa87c0ce68"
          }
        },
        "a6bc3326e30b42d2a195aa51cbd35900": {
          "model_module": "@jupyter-widgets/controls",
          "model_name": "HTMLModel",
          "model_module_version": "1.5.0",
          "state": {
            "_dom_classes": [],
            "_model_module": "@jupyter-widgets/controls",
            "_model_module_version": "1.5.0",
            "_model_name": "HTMLModel",
            "_view_count": null,
            "_view_module": "@jupyter-widgets/controls",
            "_view_module_version": "1.5.0",
            "_view_name": "HTMLView",
            "description": "",
            "description_tooltip": null,
            "layout": "IPY_MODEL_b113c517b5bb43d1a02c2a2d01458e13",
            "placeholder": "​",
            "style": "IPY_MODEL_04d43c21a41d48899bc5a48da265297b",
            "value": "Epoch 0: 100%"
          }
        },
        "59ec3cec93f440c7a0f337396b742b0c": {
          "model_module": "@jupyter-widgets/controls",
          "model_name": "FloatProgressModel",
          "model_module_version": "1.5.0",
          "state": {
            "_dom_classes": [],
            "_model_module": "@jupyter-widgets/controls",
            "_model_module_version": "1.5.0",
            "_model_name": "FloatProgressModel",
            "_view_count": null,
            "_view_module": "@jupyter-widgets/controls",
            "_view_module_version": "1.5.0",
            "_view_name": "ProgressView",
            "bar_style": "",
            "description": "",
            "description_tooltip": null,
            "layout": "IPY_MODEL_3ea0c5e8d7e14e528cef608493adb6a3",
            "max": 59,
            "min": 0,
            "orientation": "horizontal",
            "style": "IPY_MODEL_c03cd54c2dc6439395df854e0bc53ac0",
            "value": 59
          }
        },
        "37806833b57240e8acaa64fbd2485307": {
          "model_module": "@jupyter-widgets/controls",
          "model_name": "HTMLModel",
          "model_module_version": "1.5.0",
          "state": {
            "_dom_classes": [],
            "_model_module": "@jupyter-widgets/controls",
            "_model_module_version": "1.5.0",
            "_model_name": "HTMLModel",
            "_view_count": null,
            "_view_module": "@jupyter-widgets/controls",
            "_view_module_version": "1.5.0",
            "_view_name": "HTMLView",
            "description": "",
            "description_tooltip": null,
            "layout": "IPY_MODEL_3336181e180842f38435f10be65ee66c",
            "placeholder": "​",
            "style": "IPY_MODEL_15000e27ac624188a8f18f7669eb5535",
            "value": " 59/59 [01:24&lt;00:00,  1.44s/it, loss=2.67, v_num=1]"
          }
        },
        "16d3034860a642e79ebf28aa87c0ce68": {
          "model_module": "@jupyter-widgets/base",
          "model_name": "LayoutModel",
          "model_module_version": "1.2.0",
          "state": {
            "_model_module": "@jupyter-widgets/base",
            "_model_module_version": "1.2.0",
            "_model_name": "LayoutModel",
            "_view_count": null,
            "_view_module": "@jupyter-widgets/base",
            "_view_module_version": "1.2.0",
            "_view_name": "LayoutView",
            "align_content": null,
            "align_items": null,
            "align_self": null,
            "border": null,
            "bottom": null,
            "display": "inline-flex",
            "flex": null,
            "flex_flow": "row wrap",
            "grid_area": null,
            "grid_auto_columns": null,
            "grid_auto_flow": null,
            "grid_auto_rows": null,
            "grid_column": null,
            "grid_gap": null,
            "grid_row": null,
            "grid_template_areas": null,
            "grid_template_columns": null,
            "grid_template_rows": null,
            "height": null,
            "justify_content": null,
            "justify_items": null,
            "left": null,
            "margin": null,
            "max_height": null,
            "max_width": null,
            "min_height": null,
            "min_width": null,
            "object_fit": null,
            "object_position": null,
            "order": null,
            "overflow": null,
            "overflow_x": null,
            "overflow_y": null,
            "padding": null,
            "right": null,
            "top": null,
            "visibility": null,
            "width": "100%"
          }
        },
        "b113c517b5bb43d1a02c2a2d01458e13": {
          "model_module": "@jupyter-widgets/base",
          "model_name": "LayoutModel",
          "model_module_version": "1.2.0",
          "state": {
            "_model_module": "@jupyter-widgets/base",
            "_model_module_version": "1.2.0",
            "_model_name": "LayoutModel",
            "_view_count": null,
            "_view_module": "@jupyter-widgets/base",
            "_view_module_version": "1.2.0",
            "_view_name": "LayoutView",
            "align_content": null,
            "align_items": null,
            "align_self": null,
            "border": null,
            "bottom": null,
            "display": null,
            "flex": null,
            "flex_flow": null,
            "grid_area": null,
            "grid_auto_columns": null,
            "grid_auto_flow": null,
            "grid_auto_rows": null,
            "grid_column": null,
            "grid_gap": null,
            "grid_row": null,
            "grid_template_areas": null,
            "grid_template_columns": null,
            "grid_template_rows": null,
            "height": null,
            "justify_content": null,
            "justify_items": null,
            "left": null,
            "margin": null,
            "max_height": null,
            "max_width": null,
            "min_height": null,
            "min_width": null,
            "object_fit": null,
            "object_position": null,
            "order": null,
            "overflow": null,
            "overflow_x": null,
            "overflow_y": null,
            "padding": null,
            "right": null,
            "top": null,
            "visibility": null,
            "width": null
          }
        },
        "04d43c21a41d48899bc5a48da265297b": {
          "model_module": "@jupyter-widgets/controls",
          "model_name": "DescriptionStyleModel",
          "model_module_version": "1.5.0",
          "state": {
            "_model_module": "@jupyter-widgets/controls",
            "_model_module_version": "1.5.0",
            "_model_name": "DescriptionStyleModel",
            "_view_count": null,
            "_view_module": "@jupyter-widgets/base",
            "_view_module_version": "1.2.0",
            "_view_name": "StyleView",
            "description_width": ""
          }
        },
        "3ea0c5e8d7e14e528cef608493adb6a3": {
          "model_module": "@jupyter-widgets/base",
          "model_name": "LayoutModel",
          "model_module_version": "1.2.0",
          "state": {
            "_model_module": "@jupyter-widgets/base",
            "_model_module_version": "1.2.0",
            "_model_name": "LayoutModel",
            "_view_count": null,
            "_view_module": "@jupyter-widgets/base",
            "_view_module_version": "1.2.0",
            "_view_name": "LayoutView",
            "align_content": null,
            "align_items": null,
            "align_self": null,
            "border": null,
            "bottom": null,
            "display": null,
            "flex": "2",
            "flex_flow": null,
            "grid_area": null,
            "grid_auto_columns": null,
            "grid_auto_flow": null,
            "grid_auto_rows": null,
            "grid_column": null,
            "grid_gap": null,
            "grid_row": null,
            "grid_template_areas": null,
            "grid_template_columns": null,
            "grid_template_rows": null,
            "height": null,
            "justify_content": null,
            "justify_items": null,
            "left": null,
            "margin": null,
            "max_height": null,
            "max_width": null,
            "min_height": null,
            "min_width": null,
            "object_fit": null,
            "object_position": null,
            "order": null,
            "overflow": null,
            "overflow_x": null,
            "overflow_y": null,
            "padding": null,
            "right": null,
            "top": null,
            "visibility": null,
            "width": null
          }
        },
        "c03cd54c2dc6439395df854e0bc53ac0": {
          "model_module": "@jupyter-widgets/controls",
          "model_name": "ProgressStyleModel",
          "model_module_version": "1.5.0",
          "state": {
            "_model_module": "@jupyter-widgets/controls",
            "_model_module_version": "1.5.0",
            "_model_name": "ProgressStyleModel",
            "_view_count": null,
            "_view_module": "@jupyter-widgets/base",
            "_view_module_version": "1.2.0",
            "_view_name": "StyleView",
            "bar_color": null,
            "description_width": ""
          }
        },
        "3336181e180842f38435f10be65ee66c": {
          "model_module": "@jupyter-widgets/base",
          "model_name": "LayoutModel",
          "model_module_version": "1.2.0",
          "state": {
            "_model_module": "@jupyter-widgets/base",
            "_model_module_version": "1.2.0",
            "_model_name": "LayoutModel",
            "_view_count": null,
            "_view_module": "@jupyter-widgets/base",
            "_view_module_version": "1.2.0",
            "_view_name": "LayoutView",
            "align_content": null,
            "align_items": null,
            "align_self": null,
            "border": null,
            "bottom": null,
            "display": null,
            "flex": null,
            "flex_flow": null,
            "grid_area": null,
            "grid_auto_columns": null,
            "grid_auto_flow": null,
            "grid_auto_rows": null,
            "grid_column": null,
            "grid_gap": null,
            "grid_row": null,
            "grid_template_areas": null,
            "grid_template_columns": null,
            "grid_template_rows": null,
            "height": null,
            "justify_content": null,
            "justify_items": null,
            "left": null,
            "margin": null,
            "max_height": null,
            "max_width": null,
            "min_height": null,
            "min_width": null,
            "object_fit": null,
            "object_position": null,
            "order": null,
            "overflow": null,
            "overflow_x": null,
            "overflow_y": null,
            "padding": null,
            "right": null,
            "top": null,
            "visibility": null,
            "width": null
          }
        },
        "15000e27ac624188a8f18f7669eb5535": {
          "model_module": "@jupyter-widgets/controls",
          "model_name": "DescriptionStyleModel",
          "model_module_version": "1.5.0",
          "state": {
            "_model_module": "@jupyter-widgets/controls",
            "_model_module_version": "1.5.0",
            "_model_name": "DescriptionStyleModel",
            "_view_count": null,
            "_view_module": "@jupyter-widgets/base",
            "_view_module_version": "1.2.0",
            "_view_name": "StyleView",
            "description_width": ""
          }
        },
        "4a3db405f1d6472aa21da3d04f848aca": {
          "model_module": "@jupyter-widgets/controls",
          "model_name": "HBoxModel",
          "model_module_version": "1.5.0",
          "state": {
            "_dom_classes": [],
            "_model_module": "@jupyter-widgets/controls",
            "_model_module_version": "1.5.0",
            "_model_name": "HBoxModel",
            "_view_count": null,
            "_view_module": "@jupyter-widgets/controls",
            "_view_module_version": "1.5.0",
            "_view_name": "HBoxView",
            "box_style": "",
            "children": [
              "IPY_MODEL_430e4112263b4c2ba07656aaa8b972a1",
              "IPY_MODEL_c7053c76dc1d45ef94d51318da9b037e",
              "IPY_MODEL_fc3cf0ff457740ce8005d8153cffd927"
            ],
            "layout": "IPY_MODEL_235abbf728134ae9b626fd738291dd8a"
          }
        },
        "430e4112263b4c2ba07656aaa8b972a1": {
          "model_module": "@jupyter-widgets/controls",
          "model_name": "HTMLModel",
          "model_module_version": "1.5.0",
          "state": {
            "_dom_classes": [],
            "_model_module": "@jupyter-widgets/controls",
            "_model_module_version": "1.5.0",
            "_model_name": "HTMLModel",
            "_view_count": null,
            "_view_module": "@jupyter-widgets/controls",
            "_view_module_version": "1.5.0",
            "_view_name": "HTMLView",
            "description": "",
            "description_tooltip": null,
            "layout": "IPY_MODEL_7cac9a808f2b40aebc5b72679d7acf5b",
            "placeholder": "​",
            "style": "IPY_MODEL_ee15d1c66e6e433faaebb21746016882",
            "value": "Validation DataLoader 0: 100%"
          }
        },
        "c7053c76dc1d45ef94d51318da9b037e": {
          "model_module": "@jupyter-widgets/controls",
          "model_name": "FloatProgressModel",
          "model_module_version": "1.5.0",
          "state": {
            "_dom_classes": [],
            "_model_module": "@jupyter-widgets/controls",
            "_model_module_version": "1.5.0",
            "_model_name": "FloatProgressModel",
            "_view_count": null,
            "_view_module": "@jupyter-widgets/controls",
            "_view_module_version": "1.5.0",
            "_view_name": "ProgressView",
            "bar_style": "",
            "description": "",
            "description_tooltip": null,
            "layout": "IPY_MODEL_4bedc07ccc9243de8065bbde3dd38cf1",
            "max": 7,
            "min": 0,
            "orientation": "horizontal",
            "style": "IPY_MODEL_211621dc726945f48f74a5c5373976f9",
            "value": 7
          }
        },
        "fc3cf0ff457740ce8005d8153cffd927": {
          "model_module": "@jupyter-widgets/controls",
          "model_name": "HTMLModel",
          "model_module_version": "1.5.0",
          "state": {
            "_dom_classes": [],
            "_model_module": "@jupyter-widgets/controls",
            "_model_module_version": "1.5.0",
            "_model_name": "HTMLModel",
            "_view_count": null,
            "_view_module": "@jupyter-widgets/controls",
            "_view_module_version": "1.5.0",
            "_view_name": "HTMLView",
            "description": "",
            "description_tooltip": null,
            "layout": "IPY_MODEL_86da2dfc30794faca7576c93650e16cf",
            "placeholder": "​",
            "style": "IPY_MODEL_20f70d0d1f9b45e1af422dbff362bdaa",
            "value": " 7/7 [00:06&lt;00:00,  1.02it/s]"
          }
        },
        "235abbf728134ae9b626fd738291dd8a": {
          "model_module": "@jupyter-widgets/base",
          "model_name": "LayoutModel",
          "model_module_version": "1.2.0",
          "state": {
            "_model_module": "@jupyter-widgets/base",
            "_model_module_version": "1.2.0",
            "_model_name": "LayoutModel",
            "_view_count": null,
            "_view_module": "@jupyter-widgets/base",
            "_view_module_version": "1.2.0",
            "_view_name": "LayoutView",
            "align_content": null,
            "align_items": null,
            "align_self": null,
            "border": null,
            "bottom": null,
            "display": "inline-flex",
            "flex": null,
            "flex_flow": "row wrap",
            "grid_area": null,
            "grid_auto_columns": null,
            "grid_auto_flow": null,
            "grid_auto_rows": null,
            "grid_column": null,
            "grid_gap": null,
            "grid_row": null,
            "grid_template_areas": null,
            "grid_template_columns": null,
            "grid_template_rows": null,
            "height": null,
            "justify_content": null,
            "justify_items": null,
            "left": null,
            "margin": null,
            "max_height": null,
            "max_width": null,
            "min_height": null,
            "min_width": null,
            "object_fit": null,
            "object_position": null,
            "order": null,
            "overflow": null,
            "overflow_x": null,
            "overflow_y": null,
            "padding": null,
            "right": null,
            "top": null,
            "visibility": "hidden",
            "width": "100%"
          }
        },
        "7cac9a808f2b40aebc5b72679d7acf5b": {
          "model_module": "@jupyter-widgets/base",
          "model_name": "LayoutModel",
          "model_module_version": "1.2.0",
          "state": {
            "_model_module": "@jupyter-widgets/base",
            "_model_module_version": "1.2.0",
            "_model_name": "LayoutModel",
            "_view_count": null,
            "_view_module": "@jupyter-widgets/base",
            "_view_module_version": "1.2.0",
            "_view_name": "LayoutView",
            "align_content": null,
            "align_items": null,
            "align_self": null,
            "border": null,
            "bottom": null,
            "display": null,
            "flex": null,
            "flex_flow": null,
            "grid_area": null,
            "grid_auto_columns": null,
            "grid_auto_flow": null,
            "grid_auto_rows": null,
            "grid_column": null,
            "grid_gap": null,
            "grid_row": null,
            "grid_template_areas": null,
            "grid_template_columns": null,
            "grid_template_rows": null,
            "height": null,
            "justify_content": null,
            "justify_items": null,
            "left": null,
            "margin": null,
            "max_height": null,
            "max_width": null,
            "min_height": null,
            "min_width": null,
            "object_fit": null,
            "object_position": null,
            "order": null,
            "overflow": null,
            "overflow_x": null,
            "overflow_y": null,
            "padding": null,
            "right": null,
            "top": null,
            "visibility": null,
            "width": null
          }
        },
        "ee15d1c66e6e433faaebb21746016882": {
          "model_module": "@jupyter-widgets/controls",
          "model_name": "DescriptionStyleModel",
          "model_module_version": "1.5.0",
          "state": {
            "_model_module": "@jupyter-widgets/controls",
            "_model_module_version": "1.5.0",
            "_model_name": "DescriptionStyleModel",
            "_view_count": null,
            "_view_module": "@jupyter-widgets/base",
            "_view_module_version": "1.2.0",
            "_view_name": "StyleView",
            "description_width": ""
          }
        },
        "4bedc07ccc9243de8065bbde3dd38cf1": {
          "model_module": "@jupyter-widgets/base",
          "model_name": "LayoutModel",
          "model_module_version": "1.2.0",
          "state": {
            "_model_module": "@jupyter-widgets/base",
            "_model_module_version": "1.2.0",
            "_model_name": "LayoutModel",
            "_view_count": null,
            "_view_module": "@jupyter-widgets/base",
            "_view_module_version": "1.2.0",
            "_view_name": "LayoutView",
            "align_content": null,
            "align_items": null,
            "align_self": null,
            "border": null,
            "bottom": null,
            "display": null,
            "flex": "2",
            "flex_flow": null,
            "grid_area": null,
            "grid_auto_columns": null,
            "grid_auto_flow": null,
            "grid_auto_rows": null,
            "grid_column": null,
            "grid_gap": null,
            "grid_row": null,
            "grid_template_areas": null,
            "grid_template_columns": null,
            "grid_template_rows": null,
            "height": null,
            "justify_content": null,
            "justify_items": null,
            "left": null,
            "margin": null,
            "max_height": null,
            "max_width": null,
            "min_height": null,
            "min_width": null,
            "object_fit": null,
            "object_position": null,
            "order": null,
            "overflow": null,
            "overflow_x": null,
            "overflow_y": null,
            "padding": null,
            "right": null,
            "top": null,
            "visibility": null,
            "width": null
          }
        },
        "211621dc726945f48f74a5c5373976f9": {
          "model_module": "@jupyter-widgets/controls",
          "model_name": "ProgressStyleModel",
          "model_module_version": "1.5.0",
          "state": {
            "_model_module": "@jupyter-widgets/controls",
            "_model_module_version": "1.5.0",
            "_model_name": "ProgressStyleModel",
            "_view_count": null,
            "_view_module": "@jupyter-widgets/base",
            "_view_module_version": "1.2.0",
            "_view_name": "StyleView",
            "bar_color": null,
            "description_width": ""
          }
        },
        "86da2dfc30794faca7576c93650e16cf": {
          "model_module": "@jupyter-widgets/base",
          "model_name": "LayoutModel",
          "model_module_version": "1.2.0",
          "state": {
            "_model_module": "@jupyter-widgets/base",
            "_model_module_version": "1.2.0",
            "_model_name": "LayoutModel",
            "_view_count": null,
            "_view_module": "@jupyter-widgets/base",
            "_view_module_version": "1.2.0",
            "_view_name": "LayoutView",
            "align_content": null,
            "align_items": null,
            "align_self": null,
            "border": null,
            "bottom": null,
            "display": null,
            "flex": null,
            "flex_flow": null,
            "grid_area": null,
            "grid_auto_columns": null,
            "grid_auto_flow": null,
            "grid_auto_rows": null,
            "grid_column": null,
            "grid_gap": null,
            "grid_row": null,
            "grid_template_areas": null,
            "grid_template_columns": null,
            "grid_template_rows": null,
            "height": null,
            "justify_content": null,
            "justify_items": null,
            "left": null,
            "margin": null,
            "max_height": null,
            "max_width": null,
            "min_height": null,
            "min_width": null,
            "object_fit": null,
            "object_position": null,
            "order": null,
            "overflow": null,
            "overflow_x": null,
            "overflow_y": null,
            "padding": null,
            "right": null,
            "top": null,
            "visibility": null,
            "width": null
          }
        },
        "20f70d0d1f9b45e1af422dbff362bdaa": {
          "model_module": "@jupyter-widgets/controls",
          "model_name": "DescriptionStyleModel",
          "model_module_version": "1.5.0",
          "state": {
            "_model_module": "@jupyter-widgets/controls",
            "_model_module_version": "1.5.0",
            "_model_name": "DescriptionStyleModel",
            "_view_count": null,
            "_view_module": "@jupyter-widgets/base",
            "_view_module_version": "1.2.0",
            "_view_name": "StyleView",
            "description_width": ""
          }
        }
      }
    }
  },
  "nbformat": 4,
  "nbformat_minor": 0
}